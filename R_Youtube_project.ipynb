{
 "cells": [
  {
   "cell_type": "markdown",
   "metadata": {},
   "source": [
    "## Challenge: Show how seeing the likes is not a enough to determine if a video is of quality or not."
   ]
  },
  {
   "cell_type": "markdown",
   "metadata": {},
   "source": [
    "#### Step 1: Download package and CSV File"
   ]
  },
  {
   "cell_type": "code",
   "execution_count": 1,
   "metadata": {},
   "outputs": [
    {
     "name": "stdout",
     "output_type": "stream",
     "text": [
      "\n",
      "The downloaded binary packages are in\n",
      "\t/var/folders/bd/q77b2thn6g5c73qx7bbtpx5w0000gn/T//Rtmp6fpV4M/downloaded_packages\n"
     ]
    }
   ],
   "source": [
    "#Install package dplyr\n",
    "install.packages(\"dplyr\")"
   ]
  },
  {
   "cell_type": "code",
   "execution_count": 2,
   "metadata": {},
   "outputs": [
    {
     "data": {
      "text/html": [
       "<table class=\"dataframe\">\n",
       "<caption>A data.frame: 6 × 16</caption>\n",
       "<thead>\n",
       "\t<tr><th></th><th scope=col>video_id</th><th scope=col>trending_date</th><th scope=col>title</th><th scope=col>channel_title</th><th scope=col>category_id</th><th scope=col>publish_time</th><th scope=col>tags</th><th scope=col>views</th><th scope=col>likes</th><th scope=col>dislikes</th><th scope=col>comment_count</th><th scope=col>thumbnail_link</th><th scope=col>comments_disabled</th><th scope=col>ratings_disabled</th><th scope=col>video_error_or_removed</th><th scope=col>description</th></tr>\n",
       "\t<tr><th></th><th scope=col>&lt;chr&gt;</th><th scope=col>&lt;chr&gt;</th><th scope=col>&lt;chr&gt;</th><th scope=col>&lt;chr&gt;</th><th scope=col>&lt;int&gt;</th><th scope=col>&lt;chr&gt;</th><th scope=col>&lt;chr&gt;</th><th scope=col>&lt;int&gt;</th><th scope=col>&lt;int&gt;</th><th scope=col>&lt;int&gt;</th><th scope=col>&lt;int&gt;</th><th scope=col>&lt;chr&gt;</th><th scope=col>&lt;chr&gt;</th><th scope=col>&lt;chr&gt;</th><th scope=col>&lt;chr&gt;</th><th scope=col>&lt;chr&gt;</th></tr>\n",
       "</thead>\n",
       "<tbody>\n",
       "\t<tr><th scope=row>1</th><td>2kyS6SvSYSE</td><td>17.14.11</td><td>WE WANT TO TALK ABOUT OUR MARRIAGE                            </td><td>CaseyNeistat         </td><td>22</td><td>2017-11-13T17:13:01.000Z</td><td>SHANtell martin                                                                                                                                                                                                                                                                                                                                                                                                                          </td><td> 748374</td><td> 57527</td><td>2966</td><td>15954</td><td>https://i.ytimg.com/vi/2kyS6SvSYSE/default.jpg</td><td>False</td><td>False</td><td>False</td><td>SHANTELL'S CHANNEL - https://www.youtube.com/shantellmartin\\nCANDICE - https://www.lovebilly.com\\n\\nfilmed this video in 4k on this -- http://amzn.to/2sTDnRZ\\nwith this lens -- http://amzn.to/2rUJOmD\\nbig drone - http://tinyurl.com/h4ft3oy\\nOTHER GEAR ---  http://amzn.to/2o3GLX5\\nSony CAMERA http://amzn.to/2nOBmnv\\nOLD CAMERA; http://amzn.to/2o2cQBT\\nMAIN LENS; http://amzn.to/2od5gBJ\\nBIG SONY CAMERA; http://amzn.to/2nrdJRO\\nBIG Canon CAMERA; http://tinyurl.com/jn4q4vz\\nBENDY TRIPOD THING; http://tinyurl.com/gw3ylz2\\nYOU NEED THIS FOR THE BENDY TRIPOD; http://tinyurl.com/j8mzzua\\nWIDE LENS; http://tinyurl.com/jkfcm8t\\nMORE EXPENSIVE WIDE LENS; http://tinyurl.com/zrdgtou\\nSMALL CAMERA; http://tinyurl.com/hrrzhor\\nMICROPHONE; http://tinyurl.com/zefm4jy\\nOTHER MICROPHONE; http://tinyurl.com/jxgpj86\\nOLD DRONE (cheaper but still great);http://tinyurl.com/zcfmnmd\\n\\nfollow me; on http://instagram.com/caseyneistat\\non https://www.facebook.com/cneistat\\non https://twitter.com/CaseyNeistat\\n\\namazing intro song by https://soundcloud.com/discoteeth\\n\\nad disclosure.  THIS IS NOT AN AD.  not selling or promoting anything.  but samsung did produce the Shantell Video as a 'GALAXY PROJECT' which is an initiative that enables creators like Shantell and me to make projects we might otherwise not have the opportunity to make.  hope that's clear.  if not ask in the comments and i'll answer any specifics.                                                                                                                   </td></tr>\n",
       "\t<tr><th scope=row>2</th><td>1ZAPwfrtAFY</td><td>17.14.11</td><td>The Trump Presidency: Last Week Tonight with John Oliver (HBO)</td><td>LastWeekTonight      </td><td>24</td><td>2017-11-13T07:30:00.000Z</td><td>last week tonight trump presidency|last week tonight donald trump|john oliver trump|donald trump                                                                                                                                                                                                                                                                                                                                         </td><td>2418783</td><td> 97185</td><td>6146</td><td>12703</td><td>https://i.ytimg.com/vi/1ZAPwfrtAFY/default.jpg</td><td>False</td><td>False</td><td>False</td><td>One year after the presidential election, John Oliver discusses what we've learned so far and enlists our catheter cowboy to teach Donald Trump what he hasn't.\\n\\nConnect with Last Week Tonight online...\\n\\nSubscribe to the Last Week Tonight YouTube channel for more almost news as it almost happens: www.youtube.com/user/LastWeekTonight\\n\\nFind Last Week Tonight on Facebook like your mom would: http://Facebook.com/LastWeekTonight\\n\\nFollow us on Twitter for news about jokes and jokes about news: http://Twitter.com/LastWeekTonight\\n\\nVisit our official site for all that other stuff at once: http://www.hbo.com/lastweektonight                                                                                                                                                                                                                                                                                                                                                                                                                                                                                                                                                                                                                                                                                                                                                                                                                                                                                                                                                </td></tr>\n",
       "\t<tr><th scope=row>3</th><td>5qpjK5DgCt4</td><td>17.14.11</td><td><span style=white-space:pre-wrap>Racist Superman | Rudy Mancuso, King Bach &amp; Lele Pons         </span></td><td><span style=white-space:pre-wrap>Rudy Mancuso         </span></td><td>23</td><td>2017-11-12T19:05:24.000Z</td><td><span style=white-space:pre-wrap>racist superman|rudy|mancuso|king|bach|racist|superman|love|rudy mancuso poo bear black white official music video|iphone x by pineapple|lelepons|hannahstocking|rudymancuso|inanna|anwar|sarkis|shots|shotsstudios|alesso|anitta|brazil|Getting My Driver's License | Lele Pons                                                                                                                                                         </span></td><td>3191434</td><td>146033</td><td>5339</td><td> 8181</td><td>https://i.ytimg.com/vi/5qpjK5DgCt4/default.jpg</td><td>False</td><td>False</td><td>False</td><td><span style=white-space:pre-wrap>WATCH MY PREVIOUS VIDEO ▶ \\n\\nSUBSCRIBE ► https://www.youtube.com/channel/UC5jkXpfnBhlDjqh0ir5FsIQ?sub_confirmation=1\\n\\nTHANKS FOR WATCHING! LIKE &amp; SUBSCRIBE FOR MORE VIDEOS!\\n-----------------------------------------------------------\\nFIND ME ON: \\nInstagram | http://instagram.com/rudymancuso\\nTwitter | http://twitter.com/rudymancuso\\nFacebook | http://facebook.com/rudymancuso\\n\\nCAST: \\nRudy Mancuso | http://youtube.com/c/rudymancuso\\nLele Pons | http://youtube.com/c/lelepons\\nKing Bach | https://youtube.com/user/BachelorsPadTv\\n\\nVideo Effects: \\nCaleb Natale | https://instagram.com/calebnatale\\n\\nPA:\\nPaulina Gregory\\n\\n\\nShots Studios Channels:\\nAlesso | https://youtube.com/c/alesso\\nAnitta | http://youtube.com/c/anitta\\nAnwar Jibawi | http://youtube.com/c/anwar\\nAwkward Puppets | http://youtube.com/c/awkwardpuppets\\nHannah Stocking | http://youtube.com/c/hannahstocking\\nInanna Sarkis | http://youtube.com/c/inanna\\nLele Pons | http://youtube.com/c/lelepons\\nMaejor | http://youtube.com/c/maejor\\nMike Tyson | http://youtube.com/c/miketyson \\nRudy Mancuso | http://youtube.com/c/rudymancuso\\nShots Studios | http://youtube.com/c/shots\\n\\n#Rudy\\n#RudyMancuso                                                                                                                                                                                                                                                                                                                                                  </span></td></tr>\n",
       "\t<tr><th scope=row>4</th><td>puqaWrEC7tY</td><td>17.14.11</td><td><span style=white-space:pre-wrap>Nickelback Lyrics: Real or Fake?                              </span></td><td>Good Mythical Morning</td><td>24</td><td>2017-11-13T11:00:04.000Z</td><td>rhett and link|gmm|good mythical morning|rhett and link good mythical morning|good mythical morning rhett and link|mythical morning|Season 12|nickelback lyrics|nickelback lyrics real or fake|nickelback|nickelback songs|nickelback song|rhett link nickelback|gmm nickelback|lyrics (website category)|nickelback (musical group)|rock|music|lyrics|chad kroeger|canada|music (industry)|mythical|gmm challenge|comedy|funny|challenge</td><td> 343168</td><td> 10172</td><td> 666</td><td> 2146</td><td>https://i.ytimg.com/vi/puqaWrEC7tY/default.jpg</td><td>False</td><td>False</td><td>False</td><td><span style=white-space:pre-wrap>Today we find out if Link is a Nickelback amateur or a secret Nickelback devotee. GMM #1218\\nDon't miss an all new Ear Biscuits: https://goo.gl/xeZNQt\\nWatch Part 4: https://youtu.be/MhCdiiB8CQg | Watch Part 2: https://youtu.be/7qiOrNao9fg\\nWatch today's episode from the start: http://bit.ly/GMM1218\\n\\nPick up all of the official GMM merch only at https://mythical.store\\n\\nFollow Rhett &amp; Link: \\nInstagram: https://instagram.com/rhettandlink\\nFacebook: https://facebook.com/rhettandlink\\nTwitter: https://twitter.com/rhettandlink\\nTumblr: https://rhettandlink.tumblr.com\\nSnapchat: @realrhettlink\\nWebsite: https://mythical.co/\\n\\nCheck Out Our Other Mythical Channels:\\nGood Mythical MORE: https://youtube.com/goodmythicalmore\\nRhett &amp; Link: https://youtube.com/rhettandlink\\nThis Is Mythical: https://youtube.com/thisismythical\\nEar Biscuits: https://applepodcasts.com/earbiscuits\\n\\nWant to send us something? https://mythical.co/contact\\nHave you made a Wheel of Mythicality intro video? Submit it here: https://bit.ly/GMMWheelIntro\\n\\nIntro Animation by Digital Twigs: https://www.digitaltwigs.com\\nIntro &amp; Outro Music by Jeff Zeigler &amp; Sarah Schimeneck https://www.jeffzeigler.com\\nWheel of Mythicality theme: https://www.royaltyfreemusiclibrary.com/\\nAll Supplemental Music fromOpus 1 Music: https://opus1.sourceaudio.com/\\nWe use ‘The Mouse’ by Blue Microphones https://www.bluemic.com/mouse/                                                                                                                         </span></td></tr>\n",
       "\t<tr><th scope=row>5</th><td>d380meD0W0M</td><td>17.14.11</td><td>I Dare You: GOING BALD!?                                      </td><td>nigahiga             </td><td>24</td><td>2017-11-12T18:01:41.000Z</td><td>ryan|higa|higatv|nigahiga|i dare you|idy|rhpc|dares|no truth|comments|comedy|funny|stupid|fail                                                                                                                                                                                                                                                                                                                                           </td><td>2095731</td><td>132235</td><td>1989</td><td>17518</td><td>https://i.ytimg.com/vi/d380meD0W0M/default.jpg</td><td>False</td><td>False</td><td>False</td><td>I know it's been a while since we did this show, but we're back with what might be the best episode yet!\\nLeave your dares in the comment section! \\n\\nOrder my book how to write good \\nhttp://higatv.com/ryan-higas-how-to-write-good-pre-order-links/\\n\\nJust Launched New Official Store\\nhttps://www.gianthugs.com/collections/ryan\\n\\nHigaTV Channel\\nhttp://www.youtube.com/higatv\\n\\nTwitter\\nhttp://www.twitter.com/therealryanhiga\\n\\nFacebook\\nhttp://www.facebook.com/higatv\\n\\nWebsite\\nhttp://www.higatv.com\\n\\nInstagram\\nhttp://www.instagram.com/notryanhiga\\n\\nSend us mail or whatever you want here!\\nPO Box 232355\\nLas Vegas, NV 89105                                                                                                                                                                                                                                                                                                                                                                                                                                                                                                                                                                                                                                                                                                                                                                                                                                                                                                                          </td></tr>\n",
       "\t<tr><th scope=row>6</th><td>gHZ1Qz0KiKM</td><td>17.14.11</td><td><span style=white-space:pre-wrap>2 Weeks with iPhone X                                         </span></td><td><span style=white-space:pre-wrap>iJustine             </span></td><td>28</td><td>2017-11-13T19:07:23.000Z</td><td><span style=white-space:pre-wrap>ijustine|week with iPhone X|iphone x|apple|iphone|iphone x review|iphone x unboxing                                                                                                                                                                                                                                                                                                                                                      </span></td><td> 119180</td><td><span style=white-space:pre-wrap>  9763</span></td><td> 511</td><td> 1434</td><td>https://i.ytimg.com/vi/gHZ1Qz0KiKM/default.jpg</td><td>False</td><td>False</td><td>False</td><td><span style=white-space:pre-wrap>Using the iPhone for the past two weeks -- here's my thoughts!\\nAll my iPhone X Videos: https://www.youtube.com/watch?v=vqztGUwhRlQ&amp;list=PLoYRB6C09WUDbCndtEDELX-Fpk_pgATvF\\n► SUBSCRIBE FOR MORE VIDEOS: http://www.youtube.com/subscription_center?add_user=ijustine\\n► Get my BOOK! http://ijustinebook.com\\n► Get my iOS 10 STICKERS! http://ijustinestickers.com\\n\\n▼ SOCIAL\\nhttp://instagram.com/ijustine\\nhttp://facebook.com/ijustine\\nhttp://twitter.com/ijustine\\nSnapchat: iJustine\\n\\n————————————\\n\\n▼ STUFF I USE TO MAKE VIDEOS\\n\\nSony rx100 V - http://amzn.to/2jesbxA\\nG7X ii - http://amzn.to/2f6n2Bs\\nCanon 80D - http://amzn.to/2eRKhQo\\nSony A7s ii - http://amzn.to/2ebLR16\\nSony a6500 - http://amzn.to/2okeG2a\\nGoPro Hero 5 - http://amzn.to/2e1KyhM\\nGoPro Hero 5 Session - http://amzn.to/2oksMQT\\nEpidemic Sound - https://goo.gl/Pe7GTL \\n\\nFavorite lenses: \\nCanon EF 24-70mm - http://amzn.to/2dT7mFr\\nCanon EF-S 10-18mm - http://amzn.to/2dT62SU\\nSony 16-35mm (full frame) - http://amzn.to/2ftPaTf\\nSony Distagon 35mm (full frame) - http://amzn.to/2oB0XQj\\nSony 10-18mm wide angle - http://amzn.to/2e1Myqz\\n\\nRode Small on camera microphone - http://amzn.to/2fkiVGJ\\nRode Larger (battery required) microphone - http://amzn.to/2ftNkl8\\nSony XLR adapter Microphone - http://amzn.to/2kCcIDH\\nSmall Sony Microphone - http://amzn.to/2oX7Eih\\n\\nFavorite SD Card - http://amzn.to/2oWRGoD\\n\\nDJI Mavic Pro - http://amzn.to/2f6nL5E\\nPhantom 4 Pro - http://amzn.to/2pbDrN1\\nPhantom 4 Pro Plus  - http://amzn.to/2oX63Jz</span></td></tr>\n",
       "</tbody>\n",
       "</table>\n"
      ],
      "text/latex": [
       "A data.frame: 6 × 16\n",
       "\\begin{tabular}{r|llllllllllllllll}\n",
       "  & video\\_id & trending\\_date & title & channel\\_title & category\\_id & publish\\_time & tags & views & likes & dislikes & comment\\_count & thumbnail\\_link & comments\\_disabled & ratings\\_disabled & video\\_error\\_or\\_removed & description\\\\\n",
       "  & <chr> & <chr> & <chr> & <chr> & <int> & <chr> & <chr> & <int> & <int> & <int> & <int> & <chr> & <chr> & <chr> & <chr> & <chr>\\\\\n",
       "\\hline\n",
       "\t1 & 2kyS6SvSYSE & 17.14.11 & WE WANT TO TALK ABOUT OUR MARRIAGE                             & CaseyNeistat          & 22 & 2017-11-13T17:13:01.000Z & SHANtell martin                                                                                                                                                                                                                                                                                                                                                                                                                           &  748374 &  57527 & 2966 & 15954 & https://i.ytimg.com/vi/2kyS6SvSYSE/default.jpg & False & False & False & SHANTELL'S CHANNEL - https://www.youtube.com/shantellmartin\\textbackslash{}nCANDICE - https://www.lovebilly.com\\textbackslash{}n\\textbackslash{}nfilmed this video in 4k on this -- http://amzn.to/2sTDnRZ\\textbackslash{}nwith this lens -- http://amzn.to/2rUJOmD\\textbackslash{}nbig drone - http://tinyurl.com/h4ft3oy\\textbackslash{}nOTHER GEAR ---  http://amzn.to/2o3GLX5\\textbackslash{}nSony CAMERA http://amzn.to/2nOBmnv\\textbackslash{}nOLD CAMERA; http://amzn.to/2o2cQBT\\textbackslash{}nMAIN LENS; http://amzn.to/2od5gBJ\\textbackslash{}nBIG SONY CAMERA; http://amzn.to/2nrdJRO\\textbackslash{}nBIG Canon CAMERA; http://tinyurl.com/jn4q4vz\\textbackslash{}nBENDY TRIPOD THING; http://tinyurl.com/gw3ylz2\\textbackslash{}nYOU NEED THIS FOR THE BENDY TRIPOD; http://tinyurl.com/j8mzzua\\textbackslash{}nWIDE LENS; http://tinyurl.com/jkfcm8t\\textbackslash{}nMORE EXPENSIVE WIDE LENS; http://tinyurl.com/zrdgtou\\textbackslash{}nSMALL CAMERA; http://tinyurl.com/hrrzhor\\textbackslash{}nMICROPHONE; http://tinyurl.com/zefm4jy\\textbackslash{}nOTHER MICROPHONE; http://tinyurl.com/jxgpj86\\textbackslash{}nOLD DRONE (cheaper but still great);http://tinyurl.com/zcfmnmd\\textbackslash{}n\\textbackslash{}nfollow me; on http://instagram.com/caseyneistat\\textbackslash{}non https://www.facebook.com/cneistat\\textbackslash{}non https://twitter.com/CaseyNeistat\\textbackslash{}n\\textbackslash{}namazing intro song by https://soundcloud.com/discoteeth\\textbackslash{}n\\textbackslash{}nad disclosure.  THIS IS NOT AN AD.  not selling or promoting anything.  but samsung did produce the Shantell Video as a 'GALAXY PROJECT' which is an initiative that enables creators like Shantell and me to make projects we might otherwise not have the opportunity to make.  hope that's clear.  if not ask in the comments and i'll answer any specifics.                                                                                                                   \\\\\n",
       "\t2 & 1ZAPwfrtAFY & 17.14.11 & The Trump Presidency: Last Week Tonight with John Oliver (HBO) & LastWeekTonight       & 24 & 2017-11-13T07:30:00.000Z & last week tonight trump presidency\\textbar{}last week tonight donald trump\\textbar{}john oliver trump\\textbar{}donald trump                                                                                                                                                                                                                                                                                                                                          & 2418783 &  97185 & 6146 & 12703 & https://i.ytimg.com/vi/1ZAPwfrtAFY/default.jpg & False & False & False & One year after the presidential election, John Oliver discusses what we've learned so far and enlists our catheter cowboy to teach Donald Trump what he hasn't.\\textbackslash{}n\\textbackslash{}nConnect with Last Week Tonight online...\\textbackslash{}n\\textbackslash{}nSubscribe to the Last Week Tonight YouTube channel for more almost news as it almost happens: www.youtube.com/user/LastWeekTonight\\textbackslash{}n\\textbackslash{}nFind Last Week Tonight on Facebook like your mom would: http://Facebook.com/LastWeekTonight\\textbackslash{}n\\textbackslash{}nFollow us on Twitter for news about jokes and jokes about news: http://Twitter.com/LastWeekTonight\\textbackslash{}n\\textbackslash{}nVisit our official site for all that other stuff at once: http://www.hbo.com/lastweektonight                                                                                                                                                                                                                                                                                                                                                                                                                                                                                                                                                                                                                                                                                                                                                                                                                                                                                                                                                \\\\\n",
       "\t3 & 5qpjK5DgCt4 & 17.14.11 & Racist Superman \\textbar{} Rudy Mancuso, King Bach \\& Lele Pons          & Rudy Mancuso          & 23 & 2017-11-12T19:05:24.000Z & racist superman\\textbar{}rudy\\textbar{}mancuso\\textbar{}king\\textbar{}bach\\textbar{}racist\\textbar{}superman\\textbar{}love\\textbar{}rudy mancuso poo bear black white official music video\\textbar{}iphone x by pineapple\\textbar{}lelepons\\textbar{}hannahstocking\\textbar{}rudymancuso\\textbar{}inanna\\textbar{}anwar\\textbar{}sarkis\\textbar{}shots\\textbar{}shotsstudios\\textbar{}alesso\\textbar{}anitta\\textbar{}brazil\\textbar{}Getting My Driver's License \\textbar{} Lele Pons                                                                                                                                                          & 3191434 & 146033 & 5339 &  8181 & https://i.ytimg.com/vi/5qpjK5DgCt4/default.jpg & False & False & False & WATCH MY PREVIOUS VIDEO ▶ \\textbackslash{}n\\textbackslash{}nSUBSCRIBE ► https://www.youtube.com/channel/UC5jkXpfnBhlDjqh0ir5FsIQ?sub\\_confirmation=1\\textbackslash{}n\\textbackslash{}nTHANKS FOR WATCHING! LIKE \\& SUBSCRIBE FOR MORE VIDEOS!\\textbackslash{}n-----------------------------------------------------------\\textbackslash{}nFIND ME ON: \\textbackslash{}nInstagram \\textbar{} http://instagram.com/rudymancuso\\textbackslash{}nTwitter \\textbar{} http://twitter.com/rudymancuso\\textbackslash{}nFacebook \\textbar{} http://facebook.com/rudymancuso\\textbackslash{}n\\textbackslash{}nCAST: \\textbackslash{}nRudy Mancuso \\textbar{} http://youtube.com/c/rudymancuso\\textbackslash{}nLele Pons \\textbar{} http://youtube.com/c/lelepons\\textbackslash{}nKing Bach \\textbar{} https://youtube.com/user/BachelorsPadTv\\textbackslash{}n\\textbackslash{}nVideo Effects: \\textbackslash{}nCaleb Natale \\textbar{} https://instagram.com/calebnatale\\textbackslash{}n\\textbackslash{}nPA:\\textbackslash{}nPaulina Gregory\\textbackslash{}n\\textbackslash{}n\\textbackslash{}nShots Studios Channels:\\textbackslash{}nAlesso \\textbar{} https://youtube.com/c/alesso\\textbackslash{}nAnitta \\textbar{} http://youtube.com/c/anitta\\textbackslash{}nAnwar Jibawi \\textbar{} http://youtube.com/c/anwar\\textbackslash{}nAwkward Puppets \\textbar{} http://youtube.com/c/awkwardpuppets\\textbackslash{}nHannah Stocking \\textbar{} http://youtube.com/c/hannahstocking\\textbackslash{}nInanna Sarkis \\textbar{} http://youtube.com/c/inanna\\textbackslash{}nLele Pons \\textbar{} http://youtube.com/c/lelepons\\textbackslash{}nMaejor \\textbar{} http://youtube.com/c/maejor\\textbackslash{}nMike Tyson \\textbar{} http://youtube.com/c/miketyson \\textbackslash{}nRudy Mancuso \\textbar{} http://youtube.com/c/rudymancuso\\textbackslash{}nShots Studios \\textbar{} http://youtube.com/c/shots\\textbackslash{}n\\textbackslash{}n\\#Rudy\\textbackslash{}n\\#RudyMancuso                                                                                                                                                                                                                                                                                                                                                  \\\\\n",
       "\t4 & puqaWrEC7tY & 17.14.11 & Nickelback Lyrics: Real or Fake?                               & Good Mythical Morning & 24 & 2017-11-13T11:00:04.000Z & rhett and link\\textbar{}gmm\\textbar{}good mythical morning\\textbar{}rhett and link good mythical morning\\textbar{}good mythical morning rhett and link\\textbar{}mythical morning\\textbar{}Season 12\\textbar{}nickelback lyrics\\textbar{}nickelback lyrics real or fake\\textbar{}nickelback\\textbar{}nickelback songs\\textbar{}nickelback song\\textbar{}rhett link nickelback\\textbar{}gmm nickelback\\textbar{}lyrics (website category)\\textbar{}nickelback (musical group)\\textbar{}rock\\textbar{}music\\textbar{}lyrics\\textbar{}chad kroeger\\textbar{}canada\\textbar{}music (industry)\\textbar{}mythical\\textbar{}gmm challenge\\textbar{}comedy\\textbar{}funny\\textbar{}challenge &  343168 &  10172 &  666 &  2146 & https://i.ytimg.com/vi/puqaWrEC7tY/default.jpg & False & False & False & Today we find out if Link is a Nickelback amateur or a secret Nickelback devotee. GMM \\#1218\\textbackslash{}nDon't miss an all new Ear Biscuits: https://goo.gl/xeZNQt\\textbackslash{}nWatch Part 4: https://youtu.be/MhCdiiB8CQg \\textbar{} Watch Part 2: https://youtu.be/7qiOrNao9fg\\textbackslash{}nWatch today's episode from the start: http://bit.ly/GMM1218\\textbackslash{}n\\textbackslash{}nPick up all of the official GMM merch only at https://mythical.store\\textbackslash{}n\\textbackslash{}nFollow Rhett \\& Link: \\textbackslash{}nInstagram: https://instagram.com/rhettandlink\\textbackslash{}nFacebook: https://facebook.com/rhettandlink\\textbackslash{}nTwitter: https://twitter.com/rhettandlink\\textbackslash{}nTumblr: https://rhettandlink.tumblr.com\\textbackslash{}nSnapchat: @realrhettlink\\textbackslash{}nWebsite: https://mythical.co/\\textbackslash{}n\\textbackslash{}nCheck Out Our Other Mythical Channels:\\textbackslash{}nGood Mythical MORE: https://youtube.com/goodmythicalmore\\textbackslash{}nRhett \\& Link: https://youtube.com/rhettandlink\\textbackslash{}nThis Is Mythical: https://youtube.com/thisismythical\\textbackslash{}nEar Biscuits: https://applepodcasts.com/earbiscuits\\textbackslash{}n\\textbackslash{}nWant to send us something? https://mythical.co/contact\\textbackslash{}nHave you made a Wheel of Mythicality intro video? Submit it here: https://bit.ly/GMMWheelIntro\\textbackslash{}n\\textbackslash{}nIntro Animation by Digital Twigs: https://www.digitaltwigs.com\\textbackslash{}nIntro \\& Outro Music by Jeff Zeigler \\& Sarah Schimeneck https://www.jeffzeigler.com\\textbackslash{}nWheel of Mythicality theme: https://www.royaltyfreemusiclibrary.com/\\textbackslash{}nAll Supplemental Music fromOpus 1 Music: https://opus1.sourceaudio.com/\\textbackslash{}nWe use ‘The Mouse’ by Blue Microphones https://www.bluemic.com/mouse/                                                                                                                         \\\\\n",
       "\t5 & d380meD0W0M & 17.14.11 & I Dare You: GOING BALD!?                                       & nigahiga              & 24 & 2017-11-12T18:01:41.000Z & ryan\\textbar{}higa\\textbar{}higatv\\textbar{}nigahiga\\textbar{}i dare you\\textbar{}idy\\textbar{}rhpc\\textbar{}dares\\textbar{}no truth\\textbar{}comments\\textbar{}comedy\\textbar{}funny\\textbar{}stupid\\textbar{}fail                                                                                                                                                                                                                                                                                                                                            & 2095731 & 132235 & 1989 & 17518 & https://i.ytimg.com/vi/d380meD0W0M/default.jpg & False & False & False & I know it's been a while since we did this show, but we're back with what might be the best episode yet!\\textbackslash{}nLeave your dares in the comment section! \\textbackslash{}n\\textbackslash{}nOrder my book how to write good \\textbackslash{}nhttp://higatv.com/ryan-higas-how-to-write-good-pre-order-links/\\textbackslash{}n\\textbackslash{}nJust Launched New Official Store\\textbackslash{}nhttps://www.gianthugs.com/collections/ryan\\textbackslash{}n\\textbackslash{}nHigaTV Channel\\textbackslash{}nhttp://www.youtube.com/higatv\\textbackslash{}n\\textbackslash{}nTwitter\\textbackslash{}nhttp://www.twitter.com/therealryanhiga\\textbackslash{}n\\textbackslash{}nFacebook\\textbackslash{}nhttp://www.facebook.com/higatv\\textbackslash{}n\\textbackslash{}nWebsite\\textbackslash{}nhttp://www.higatv.com\\textbackslash{}n\\textbackslash{}nInstagram\\textbackslash{}nhttp://www.instagram.com/notryanhiga\\textbackslash{}n\\textbackslash{}nSend us mail or whatever you want here!\\textbackslash{}nPO Box 232355\\textbackslash{}nLas Vegas, NV 89105                                                                                                                                                                                                                                                                                                                                                                                                                                                                                                                                                                                                                                                                                                                                                                                                                                                                                                                          \\\\\n",
       "\t6 & gHZ1Qz0KiKM & 17.14.11 & 2 Weeks with iPhone X                                          & iJustine              & 28 & 2017-11-13T19:07:23.000Z & ijustine\\textbar{}week with iPhone X\\textbar{}iphone x\\textbar{}apple\\textbar{}iphone\\textbar{}iphone x review\\textbar{}iphone x unboxing                                                                                                                                                                                                                                                                                                                                                       &  119180 &   9763 &  511 &  1434 & https://i.ytimg.com/vi/gHZ1Qz0KiKM/default.jpg & False & False & False & Using the iPhone for the past two weeks -- here's my thoughts!\\textbackslash{}nAll my iPhone X Videos: https://www.youtube.com/watch?v=vqztGUwhRlQ\\&list=PLoYRB6C09WUDbCndtEDELX-Fpk\\_pgATvF\\textbackslash{}n► SUBSCRIBE FOR MORE VIDEOS: http://www.youtube.com/subscription\\_center?add\\_user=ijustine\\textbackslash{}n► Get my BOOK! http://ijustinebook.com\\textbackslash{}n► Get my iOS 10 STICKERS! http://ijustinestickers.com\\textbackslash{}n\\textbackslash{}n▼ SOCIAL\\textbackslash{}nhttp://instagram.com/ijustine\\textbackslash{}nhttp://facebook.com/ijustine\\textbackslash{}nhttp://twitter.com/ijustine\\textbackslash{}nSnapchat: iJustine\\textbackslash{}n\\textbackslash{}n————————————\\textbackslash{}n\\textbackslash{}n▼ STUFF I USE TO MAKE VIDEOS\\textbackslash{}n\\textbackslash{}nSony rx100 V - http://amzn.to/2jesbxA\\textbackslash{}nG7X ii - http://amzn.to/2f6n2Bs\\textbackslash{}nCanon 80D - http://amzn.to/2eRKhQo\\textbackslash{}nSony A7s ii - http://amzn.to/2ebLR16\\textbackslash{}nSony a6500 - http://amzn.to/2okeG2a\\textbackslash{}nGoPro Hero 5 - http://amzn.to/2e1KyhM\\textbackslash{}nGoPro Hero 5 Session - http://amzn.to/2oksMQT\\textbackslash{}nEpidemic Sound - https://goo.gl/Pe7GTL \\textbackslash{}n\\textbackslash{}nFavorite lenses: \\textbackslash{}nCanon EF 24-70mm - http://amzn.to/2dT7mFr\\textbackslash{}nCanon EF-S 10-18mm - http://amzn.to/2dT62SU\\textbackslash{}nSony 16-35mm (full frame) - http://amzn.to/2ftPaTf\\textbackslash{}nSony Distagon 35mm (full frame) - http://amzn.to/2oB0XQj\\textbackslash{}nSony 10-18mm wide angle - http://amzn.to/2e1Myqz\\textbackslash{}n\\textbackslash{}nRode Small on camera microphone - http://amzn.to/2fkiVGJ\\textbackslash{}nRode Larger (battery required) microphone - http://amzn.to/2ftNkl8\\textbackslash{}nSony XLR adapter Microphone - http://amzn.to/2kCcIDH\\textbackslash{}nSmall Sony Microphone - http://amzn.to/2oX7Eih\\textbackslash{}n\\textbackslash{}nFavorite SD Card - http://amzn.to/2oWRGoD\\textbackslash{}n\\textbackslash{}nDJI Mavic Pro - http://amzn.to/2f6nL5E\\textbackslash{}nPhantom 4 Pro - http://amzn.to/2pbDrN1\\textbackslash{}nPhantom 4 Pro Plus  - http://amzn.to/2oX63Jz\\\\\n",
       "\\end{tabular}\n"
      ],
      "text/markdown": [
       "\n",
       "A data.frame: 6 × 16\n",
       "\n",
       "| <!--/--> | video_id &lt;chr&gt; | trending_date &lt;chr&gt; | title &lt;chr&gt; | channel_title &lt;chr&gt; | category_id &lt;int&gt; | publish_time &lt;chr&gt; | tags &lt;chr&gt; | views &lt;int&gt; | likes &lt;int&gt; | dislikes &lt;int&gt; | comment_count &lt;int&gt; | thumbnail_link &lt;chr&gt; | comments_disabled &lt;chr&gt; | ratings_disabled &lt;chr&gt; | video_error_or_removed &lt;chr&gt; | description &lt;chr&gt; |\n",
       "|---|---|---|---|---|---|---|---|---|---|---|---|---|---|---|---|---|\n",
       "| 1 | 2kyS6SvSYSE | 17.14.11 | WE WANT TO TALK ABOUT OUR MARRIAGE                             | CaseyNeistat          | 22 | 2017-11-13T17:13:01.000Z | SHANtell martin                                                                                                                                                                                                                                                                                                                                                                                                                           |  748374 |  57527 | 2966 | 15954 | https://i.ytimg.com/vi/2kyS6SvSYSE/default.jpg | False | False | False | SHANTELL'S CHANNEL - https://www.youtube.com/shantellmartin\\nCANDICE - https://www.lovebilly.com\\n\\nfilmed this video in 4k on this -- http://amzn.to/2sTDnRZ\\nwith this lens -- http://amzn.to/2rUJOmD\\nbig drone - http://tinyurl.com/h4ft3oy\\nOTHER GEAR ---  http://amzn.to/2o3GLX5\\nSony CAMERA http://amzn.to/2nOBmnv\\nOLD CAMERA; http://amzn.to/2o2cQBT\\nMAIN LENS; http://amzn.to/2od5gBJ\\nBIG SONY CAMERA; http://amzn.to/2nrdJRO\\nBIG Canon CAMERA; http://tinyurl.com/jn4q4vz\\nBENDY TRIPOD THING; http://tinyurl.com/gw3ylz2\\nYOU NEED THIS FOR THE BENDY TRIPOD; http://tinyurl.com/j8mzzua\\nWIDE LENS; http://tinyurl.com/jkfcm8t\\nMORE EXPENSIVE WIDE LENS; http://tinyurl.com/zrdgtou\\nSMALL CAMERA; http://tinyurl.com/hrrzhor\\nMICROPHONE; http://tinyurl.com/zefm4jy\\nOTHER MICROPHONE; http://tinyurl.com/jxgpj86\\nOLD DRONE (cheaper but still great);http://tinyurl.com/zcfmnmd\\n\\nfollow me; on http://instagram.com/caseyneistat\\non https://www.facebook.com/cneistat\\non https://twitter.com/CaseyNeistat\\n\\namazing intro song by https://soundcloud.com/discoteeth\\n\\nad disclosure.  THIS IS NOT AN AD.  not selling or promoting anything.  but samsung did produce the Shantell Video as a 'GALAXY PROJECT' which is an initiative that enables creators like Shantell and me to make projects we might otherwise not have the opportunity to make.  hope that's clear.  if not ask in the comments and i'll answer any specifics.                                                                                                                    |\n",
       "| 2 | 1ZAPwfrtAFY | 17.14.11 | The Trump Presidency: Last Week Tonight with John Oliver (HBO) | LastWeekTonight       | 24 | 2017-11-13T07:30:00.000Z | last week tonight trump presidency|last week tonight donald trump|john oliver trump|donald trump                                                                                                                                                                                                                                                                                                                                          | 2418783 |  97185 | 6146 | 12703 | https://i.ytimg.com/vi/1ZAPwfrtAFY/default.jpg | False | False | False | One year after the presidential election, John Oliver discusses what we've learned so far and enlists our catheter cowboy to teach Donald Trump what he hasn't.\\n\\nConnect with Last Week Tonight online...\\n\\nSubscribe to the Last Week Tonight YouTube channel for more almost news as it almost happens: www.youtube.com/user/LastWeekTonight\\n\\nFind Last Week Tonight on Facebook like your mom would: http://Facebook.com/LastWeekTonight\\n\\nFollow us on Twitter for news about jokes and jokes about news: http://Twitter.com/LastWeekTonight\\n\\nVisit our official site for all that other stuff at once: http://www.hbo.com/lastweektonight                                                                                                                                                                                                                                                                                                                                                                                                                                                                                                                                                                                                                                                                                                                                                                                                                                                                                                                                                 |\n",
       "| 3 | 5qpjK5DgCt4 | 17.14.11 | Racist Superman | Rudy Mancuso, King Bach &amp; Lele Pons          | Rudy Mancuso          | 23 | 2017-11-12T19:05:24.000Z | racist superman|rudy|mancuso|king|bach|racist|superman|love|rudy mancuso poo bear black white official music video|iphone x by pineapple|lelepons|hannahstocking|rudymancuso|inanna|anwar|sarkis|shots|shotsstudios|alesso|anitta|brazil|Getting My Driver's License | Lele Pons                                                                                                                                                          | 3191434 | 146033 | 5339 |  8181 | https://i.ytimg.com/vi/5qpjK5DgCt4/default.jpg | False | False | False | WATCH MY PREVIOUS VIDEO ▶ \\n\\nSUBSCRIBE ► https://www.youtube.com/channel/UC5jkXpfnBhlDjqh0ir5FsIQ?sub_confirmation=1\\n\\nTHANKS FOR WATCHING! LIKE &amp; SUBSCRIBE FOR MORE VIDEOS!\\n-----------------------------------------------------------\\nFIND ME ON: \\nInstagram | http://instagram.com/rudymancuso\\nTwitter | http://twitter.com/rudymancuso\\nFacebook | http://facebook.com/rudymancuso\\n\\nCAST: \\nRudy Mancuso | http://youtube.com/c/rudymancuso\\nLele Pons | http://youtube.com/c/lelepons\\nKing Bach | https://youtube.com/user/BachelorsPadTv\\n\\nVideo Effects: \\nCaleb Natale | https://instagram.com/calebnatale\\n\\nPA:\\nPaulina Gregory\\n\\n\\nShots Studios Channels:\\nAlesso | https://youtube.com/c/alesso\\nAnitta | http://youtube.com/c/anitta\\nAnwar Jibawi | http://youtube.com/c/anwar\\nAwkward Puppets | http://youtube.com/c/awkwardpuppets\\nHannah Stocking | http://youtube.com/c/hannahstocking\\nInanna Sarkis | http://youtube.com/c/inanna\\nLele Pons | http://youtube.com/c/lelepons\\nMaejor | http://youtube.com/c/maejor\\nMike Tyson | http://youtube.com/c/miketyson \\nRudy Mancuso | http://youtube.com/c/rudymancuso\\nShots Studios | http://youtube.com/c/shots\\n\\n#Rudy\\n#RudyMancuso                                                                                                                                                                                                                                                                                                                                                   |\n",
       "| 4 | puqaWrEC7tY | 17.14.11 | Nickelback Lyrics: Real or Fake?                               | Good Mythical Morning | 24 | 2017-11-13T11:00:04.000Z | rhett and link|gmm|good mythical morning|rhett and link good mythical morning|good mythical morning rhett and link|mythical morning|Season 12|nickelback lyrics|nickelback lyrics real or fake|nickelback|nickelback songs|nickelback song|rhett link nickelback|gmm nickelback|lyrics (website category)|nickelback (musical group)|rock|music|lyrics|chad kroeger|canada|music (industry)|mythical|gmm challenge|comedy|funny|challenge |  343168 |  10172 |  666 |  2146 | https://i.ytimg.com/vi/puqaWrEC7tY/default.jpg | False | False | False | Today we find out if Link is a Nickelback amateur or a secret Nickelback devotee. GMM #1218\\nDon't miss an all new Ear Biscuits: https://goo.gl/xeZNQt\\nWatch Part 4: https://youtu.be/MhCdiiB8CQg | Watch Part 2: https://youtu.be/7qiOrNao9fg\\nWatch today's episode from the start: http://bit.ly/GMM1218\\n\\nPick up all of the official GMM merch only at https://mythical.store\\n\\nFollow Rhett &amp; Link: \\nInstagram: https://instagram.com/rhettandlink\\nFacebook: https://facebook.com/rhettandlink\\nTwitter: https://twitter.com/rhettandlink\\nTumblr: https://rhettandlink.tumblr.com\\nSnapchat: @realrhettlink\\nWebsite: https://mythical.co/\\n\\nCheck Out Our Other Mythical Channels:\\nGood Mythical MORE: https://youtube.com/goodmythicalmore\\nRhett &amp; Link: https://youtube.com/rhettandlink\\nThis Is Mythical: https://youtube.com/thisismythical\\nEar Biscuits: https://applepodcasts.com/earbiscuits\\n\\nWant to send us something? https://mythical.co/contact\\nHave you made a Wheel of Mythicality intro video? Submit it here: https://bit.ly/GMMWheelIntro\\n\\nIntro Animation by Digital Twigs: https://www.digitaltwigs.com\\nIntro &amp; Outro Music by Jeff Zeigler &amp; Sarah Schimeneck https://www.jeffzeigler.com\\nWheel of Mythicality theme: https://www.royaltyfreemusiclibrary.com/\\nAll Supplemental Music fromOpus 1 Music: https://opus1.sourceaudio.com/\\nWe use ‘The Mouse’ by Blue Microphones https://www.bluemic.com/mouse/                                                                                                                          |\n",
       "| 5 | d380meD0W0M | 17.14.11 | I Dare You: GOING BALD!?                                       | nigahiga              | 24 | 2017-11-12T18:01:41.000Z | ryan|higa|higatv|nigahiga|i dare you|idy|rhpc|dares|no truth|comments|comedy|funny|stupid|fail                                                                                                                                                                                                                                                                                                                                            | 2095731 | 132235 | 1989 | 17518 | https://i.ytimg.com/vi/d380meD0W0M/default.jpg | False | False | False | I know it's been a while since we did this show, but we're back with what might be the best episode yet!\\nLeave your dares in the comment section! \\n\\nOrder my book how to write good \\nhttp://higatv.com/ryan-higas-how-to-write-good-pre-order-links/\\n\\nJust Launched New Official Store\\nhttps://www.gianthugs.com/collections/ryan\\n\\nHigaTV Channel\\nhttp://www.youtube.com/higatv\\n\\nTwitter\\nhttp://www.twitter.com/therealryanhiga\\n\\nFacebook\\nhttp://www.facebook.com/higatv\\n\\nWebsite\\nhttp://www.higatv.com\\n\\nInstagram\\nhttp://www.instagram.com/notryanhiga\\n\\nSend us mail or whatever you want here!\\nPO Box 232355\\nLas Vegas, NV 89105                                                                                                                                                                                                                                                                                                                                                                                                                                                                                                                                                                                                                                                                                                                                                                                                                                                                                                                           |\n",
       "| 6 | gHZ1Qz0KiKM | 17.14.11 | 2 Weeks with iPhone X                                          | iJustine              | 28 | 2017-11-13T19:07:23.000Z | ijustine|week with iPhone X|iphone x|apple|iphone|iphone x review|iphone x unboxing                                                                                                                                                                                                                                                                                                                                                       |  119180 |   9763 |  511 |  1434 | https://i.ytimg.com/vi/gHZ1Qz0KiKM/default.jpg | False | False | False | Using the iPhone for the past two weeks -- here's my thoughts!\\nAll my iPhone X Videos: https://www.youtube.com/watch?v=vqztGUwhRlQ&amp;list=PLoYRB6C09WUDbCndtEDELX-Fpk_pgATvF\\n► SUBSCRIBE FOR MORE VIDEOS: http://www.youtube.com/subscription_center?add_user=ijustine\\n► Get my BOOK! http://ijustinebook.com\\n► Get my iOS 10 STICKERS! http://ijustinestickers.com\\n\\n▼ SOCIAL\\nhttp://instagram.com/ijustine\\nhttp://facebook.com/ijustine\\nhttp://twitter.com/ijustine\\nSnapchat: iJustine\\n\\n————————————\\n\\n▼ STUFF I USE TO MAKE VIDEOS\\n\\nSony rx100 V - http://amzn.to/2jesbxA\\nG7X ii - http://amzn.to/2f6n2Bs\\nCanon 80D - http://amzn.to/2eRKhQo\\nSony A7s ii - http://amzn.to/2ebLR16\\nSony a6500 - http://amzn.to/2okeG2a\\nGoPro Hero 5 - http://amzn.to/2e1KyhM\\nGoPro Hero 5 Session - http://amzn.to/2oksMQT\\nEpidemic Sound - https://goo.gl/Pe7GTL \\n\\nFavorite lenses: \\nCanon EF 24-70mm - http://amzn.to/2dT7mFr\\nCanon EF-S 10-18mm - http://amzn.to/2dT62SU\\nSony 16-35mm (full frame) - http://amzn.to/2ftPaTf\\nSony Distagon 35mm (full frame) - http://amzn.to/2oB0XQj\\nSony 10-18mm wide angle - http://amzn.to/2e1Myqz\\n\\nRode Small on camera microphone - http://amzn.to/2fkiVGJ\\nRode Larger (battery required) microphone - http://amzn.to/2ftNkl8\\nSony XLR adapter Microphone - http://amzn.to/2kCcIDH\\nSmall Sony Microphone - http://amzn.to/2oX7Eih\\n\\nFavorite SD Card - http://amzn.to/2oWRGoD\\n\\nDJI Mavic Pro - http://amzn.to/2f6nL5E\\nPhantom 4 Pro - http://amzn.to/2pbDrN1\\nPhantom 4 Pro Plus  - http://amzn.to/2oX63Jz |\n",
       "\n"
      ],
      "text/plain": [
       "  video_id    trending_date\n",
       "1 2kyS6SvSYSE 17.14.11     \n",
       "2 1ZAPwfrtAFY 17.14.11     \n",
       "3 5qpjK5DgCt4 17.14.11     \n",
       "4 puqaWrEC7tY 17.14.11     \n",
       "5 d380meD0W0M 17.14.11     \n",
       "6 gHZ1Qz0KiKM 17.14.11     \n",
       "  title                                                         \n",
       "1 WE WANT TO TALK ABOUT OUR MARRIAGE                            \n",
       "2 The Trump Presidency: Last Week Tonight with John Oliver (HBO)\n",
       "3 Racist Superman | Rudy Mancuso, King Bach & Lele Pons         \n",
       "4 Nickelback Lyrics: Real or Fake?                              \n",
       "5 I Dare You: GOING BALD!?                                      \n",
       "6 2 Weeks with iPhone X                                         \n",
       "  channel_title         category_id publish_time            \n",
       "1 CaseyNeistat          22          2017-11-13T17:13:01.000Z\n",
       "2 LastWeekTonight       24          2017-11-13T07:30:00.000Z\n",
       "3 Rudy Mancuso          23          2017-11-12T19:05:24.000Z\n",
       "4 Good Mythical Morning 24          2017-11-13T11:00:04.000Z\n",
       "5 nigahiga              24          2017-11-12T18:01:41.000Z\n",
       "6 iJustine              28          2017-11-13T19:07:23.000Z\n",
       "  tags                                                                                                                                                                                                                                                                                                                                                                                                                                     \n",
       "1 SHANtell martin                                                                                                                                                                                                                                                                                                                                                                                                                          \n",
       "2 last week tonight trump presidency|last week tonight donald trump|john oliver trump|donald trump                                                                                                                                                                                                                                                                                                                                         \n",
       "3 racist superman|rudy|mancuso|king|bach|racist|superman|love|rudy mancuso poo bear black white official music video|iphone x by pineapple|lelepons|hannahstocking|rudymancuso|inanna|anwar|sarkis|shots|shotsstudios|alesso|anitta|brazil|Getting My Driver's License | Lele Pons                                                                                                                                                         \n",
       "4 rhett and link|gmm|good mythical morning|rhett and link good mythical morning|good mythical morning rhett and link|mythical morning|Season 12|nickelback lyrics|nickelback lyrics real or fake|nickelback|nickelback songs|nickelback song|rhett link nickelback|gmm nickelback|lyrics (website category)|nickelback (musical group)|rock|music|lyrics|chad kroeger|canada|music (industry)|mythical|gmm challenge|comedy|funny|challenge\n",
       "5 ryan|higa|higatv|nigahiga|i dare you|idy|rhpc|dares|no truth|comments|comedy|funny|stupid|fail                                                                                                                                                                                                                                                                                                                                           \n",
       "6 ijustine|week with iPhone X|iphone x|apple|iphone|iphone x review|iphone x unboxing                                                                                                                                                                                                                                                                                                                                                      \n",
       "  views   likes  dislikes comment_count\n",
       "1  748374  57527 2966     15954        \n",
       "2 2418783  97185 6146     12703        \n",
       "3 3191434 146033 5339      8181        \n",
       "4  343168  10172  666      2146        \n",
       "5 2095731 132235 1989     17518        \n",
       "6  119180   9763  511      1434        \n",
       "  thumbnail_link                                 comments_disabled\n",
       "1 https://i.ytimg.com/vi/2kyS6SvSYSE/default.jpg False            \n",
       "2 https://i.ytimg.com/vi/1ZAPwfrtAFY/default.jpg False            \n",
       "3 https://i.ytimg.com/vi/5qpjK5DgCt4/default.jpg False            \n",
       "4 https://i.ytimg.com/vi/puqaWrEC7tY/default.jpg False            \n",
       "5 https://i.ytimg.com/vi/d380meD0W0M/default.jpg False            \n",
       "6 https://i.ytimg.com/vi/gHZ1Qz0KiKM/default.jpg False            \n",
       "  ratings_disabled video_error_or_removed\n",
       "1 False            False                 \n",
       "2 False            False                 \n",
       "3 False            False                 \n",
       "4 False            False                 \n",
       "5 False            False                 \n",
       "6 False            False                 \n",
       "  description                                                                                                                                                                                                                                                                                                                                                                                                                                                                                                                                                                                                                                                                                                                                                                                                                                                                                                                                                                                                                                                                                                                                                                                                                                                                                                                                                                                                                                                                                                                                                                                                     \n",
       "1 SHANTELL'S CHANNEL - https://www.youtube.com/shantellmartin\\\\nCANDICE - https://www.lovebilly.com\\\\n\\\\nfilmed this video in 4k on this -- http://amzn.to/2sTDnRZ\\\\nwith this lens -- http://amzn.to/2rUJOmD\\\\nbig drone - http://tinyurl.com/h4ft3oy\\\\nOTHER GEAR ---  http://amzn.to/2o3GLX5\\\\nSony CAMERA http://amzn.to/2nOBmnv\\\\nOLD CAMERA; http://amzn.to/2o2cQBT\\\\nMAIN LENS; http://amzn.to/2od5gBJ\\\\nBIG SONY CAMERA; http://amzn.to/2nrdJRO\\\\nBIG Canon CAMERA; http://tinyurl.com/jn4q4vz\\\\nBENDY TRIPOD THING; http://tinyurl.com/gw3ylz2\\\\nYOU NEED THIS FOR THE BENDY TRIPOD; http://tinyurl.com/j8mzzua\\\\nWIDE LENS; http://tinyurl.com/jkfcm8t\\\\nMORE EXPENSIVE WIDE LENS; http://tinyurl.com/zrdgtou\\\\nSMALL CAMERA; http://tinyurl.com/hrrzhor\\\\nMICROPHONE; http://tinyurl.com/zefm4jy\\\\nOTHER MICROPHONE; http://tinyurl.com/jxgpj86\\\\nOLD DRONE (cheaper but still great);http://tinyurl.com/zcfmnmd\\\\n\\\\nfollow me; on http://instagram.com/caseyneistat\\\\non https://www.facebook.com/cneistat\\\\non https://twitter.com/CaseyNeistat\\\\n\\\\namazing intro song by https://soundcloud.com/discoteeth\\\\n\\\\nad disclosure.  THIS IS NOT AN AD.  not selling or promoting anything.  but samsung did produce the Shantell Video as a 'GALAXY PROJECT' which is an initiative that enables creators like Shantell and me to make projects we might otherwise not have the opportunity to make.  hope that's clear.  if not ask in the comments and i'll answer any specifics.                                                                                                                   \n",
       "2 One year after the presidential election, John Oliver discusses what we've learned so far and enlists our catheter cowboy to teach Donald Trump what he hasn't.\\\\n\\\\nConnect with Last Week Tonight online...\\\\n\\\\nSubscribe to the Last Week Tonight YouTube channel for more almost news as it almost happens: www.youtube.com/user/LastWeekTonight\\\\n\\\\nFind Last Week Tonight on Facebook like your mom would: http://Facebook.com/LastWeekTonight\\\\n\\\\nFollow us on Twitter for news about jokes and jokes about news: http://Twitter.com/LastWeekTonight\\\\n\\\\nVisit our official site for all that other stuff at once: http://www.hbo.com/lastweektonight                                                                                                                                                                                                                                                                                                                                                                                                                                                                                                                                                                                                                                                                                                                                                                                                                                                                                                                                                \n",
       "3 WATCH MY PREVIOUS VIDEO ▶ \\\\n\\\\nSUBSCRIBE ► https://www.youtube.com/channel/UC5jkXpfnBhlDjqh0ir5FsIQ?sub_confirmation=1\\\\n\\\\nTHANKS FOR WATCHING! LIKE & SUBSCRIBE FOR MORE VIDEOS!\\\\n-----------------------------------------------------------\\\\nFIND ME ON: \\\\nInstagram | http://instagram.com/rudymancuso\\\\nTwitter | http://twitter.com/rudymancuso\\\\nFacebook | http://facebook.com/rudymancuso\\\\n\\\\nCAST: \\\\nRudy Mancuso | http://youtube.com/c/rudymancuso\\\\nLele Pons | http://youtube.com/c/lelepons\\\\nKing Bach | https://youtube.com/user/BachelorsPadTv\\\\n\\\\nVideo Effects: \\\\nCaleb Natale | https://instagram.com/calebnatale\\\\n\\\\nPA:\\\\nPaulina Gregory\\\\n\\\\n\\\\nShots Studios Channels:\\\\nAlesso | https://youtube.com/c/alesso\\\\nAnitta | http://youtube.com/c/anitta\\\\nAnwar Jibawi | http://youtube.com/c/anwar\\\\nAwkward Puppets | http://youtube.com/c/awkwardpuppets\\\\nHannah Stocking | http://youtube.com/c/hannahstocking\\\\nInanna Sarkis | http://youtube.com/c/inanna\\\\nLele Pons | http://youtube.com/c/lelepons\\\\nMaejor | http://youtube.com/c/maejor\\\\nMike Tyson | http://youtube.com/c/miketyson \\\\nRudy Mancuso | http://youtube.com/c/rudymancuso\\\\nShots Studios | http://youtube.com/c/shots\\\\n\\\\n#Rudy\\\\n#RudyMancuso                                                                                                                                                                                                                                                                                                                                                  \n",
       "4 Today we find out if Link is a Nickelback amateur or a secret Nickelback devotee. GMM #1218\\\\nDon't miss an all new Ear Biscuits: https://goo.gl/xeZNQt\\\\nWatch Part 4: https://youtu.be/MhCdiiB8CQg | Watch Part 2: https://youtu.be/7qiOrNao9fg\\\\nWatch today's episode from the start: http://bit.ly/GMM1218\\\\n\\\\nPick up all of the official GMM merch only at https://mythical.store\\\\n\\\\nFollow Rhett & Link: \\\\nInstagram: https://instagram.com/rhettandlink\\\\nFacebook: https://facebook.com/rhettandlink\\\\nTwitter: https://twitter.com/rhettandlink\\\\nTumblr: https://rhettandlink.tumblr.com\\\\nSnapchat: @realrhettlink\\\\nWebsite: https://mythical.co/\\\\n\\\\nCheck Out Our Other Mythical Channels:\\\\nGood Mythical MORE: https://youtube.com/goodmythicalmore\\\\nRhett & Link: https://youtube.com/rhettandlink\\\\nThis Is Mythical: https://youtube.com/thisismythical\\\\nEar Biscuits: https://applepodcasts.com/earbiscuits\\\\n\\\\nWant to send us something? https://mythical.co/contact\\\\nHave you made a Wheel of Mythicality intro video? Submit it here: https://bit.ly/GMMWheelIntro\\\\n\\\\nIntro Animation by Digital Twigs: https://www.digitaltwigs.com\\\\nIntro & Outro Music by Jeff Zeigler & Sarah Schimeneck https://www.jeffzeigler.com\\\\nWheel of Mythicality theme: https://www.royaltyfreemusiclibrary.com/\\\\nAll Supplemental Music fromOpus 1 Music: https://opus1.sourceaudio.com/\\\\nWe use ‘The Mouse’ by Blue Microphones https://www.bluemic.com/mouse/                                                                                                                         \n",
       "5 I know it's been a while since we did this show, but we're back with what might be the best episode yet!\\\\nLeave your dares in the comment section! \\\\n\\\\nOrder my book how to write good \\\\nhttp://higatv.com/ryan-higas-how-to-write-good-pre-order-links/\\\\n\\\\nJust Launched New Official Store\\\\nhttps://www.gianthugs.com/collections/ryan\\\\n\\\\nHigaTV Channel\\\\nhttp://www.youtube.com/higatv\\\\n\\\\nTwitter\\\\nhttp://www.twitter.com/therealryanhiga\\\\n\\\\nFacebook\\\\nhttp://www.facebook.com/higatv\\\\n\\\\nWebsite\\\\nhttp://www.higatv.com\\\\n\\\\nInstagram\\\\nhttp://www.instagram.com/notryanhiga\\\\n\\\\nSend us mail or whatever you want here!\\\\nPO Box 232355\\\\nLas Vegas, NV 89105                                                                                                                                                                                                                                                                                                                                                                                                                                                                                                                                                                                                                                                                                                                                                                                                                                                                                                                          \n",
       "6 Using the iPhone for the past two weeks -- here's my thoughts!\\\\nAll my iPhone X Videos: https://www.youtube.com/watch?v=vqztGUwhRlQ&list=PLoYRB6C09WUDbCndtEDELX-Fpk_pgATvF\\\\n► SUBSCRIBE FOR MORE VIDEOS: http://www.youtube.com/subscription_center?add_user=ijustine\\\\n► Get my BOOK! http://ijustinebook.com\\\\n► Get my iOS 10 STICKERS! http://ijustinestickers.com\\\\n\\\\n▼ SOCIAL\\\\nhttp://instagram.com/ijustine\\\\nhttp://facebook.com/ijustine\\\\nhttp://twitter.com/ijustine\\\\nSnapchat: iJustine\\\\n\\\\n————————————\\\\n\\\\n▼ STUFF I USE TO MAKE VIDEOS\\\\n\\\\nSony rx100 V - http://amzn.to/2jesbxA\\\\nG7X ii - http://amzn.to/2f6n2Bs\\\\nCanon 80D - http://amzn.to/2eRKhQo\\\\nSony A7s ii - http://amzn.to/2ebLR16\\\\nSony a6500 - http://amzn.to/2okeG2a\\\\nGoPro Hero 5 - http://amzn.to/2e1KyhM\\\\nGoPro Hero 5 Session - http://amzn.to/2oksMQT\\\\nEpidemic Sound - https://goo.gl/Pe7GTL \\\\n\\\\nFavorite lenses: \\\\nCanon EF 24-70mm - http://amzn.to/2dT7mFr\\\\nCanon EF-S 10-18mm - http://amzn.to/2dT62SU\\\\nSony 16-35mm (full frame) - http://amzn.to/2ftPaTf\\\\nSony Distagon 35mm (full frame) - http://amzn.to/2oB0XQj\\\\nSony 10-18mm wide angle - http://amzn.to/2e1Myqz\\\\n\\\\nRode Small on camera microphone - http://amzn.to/2fkiVGJ\\\\nRode Larger (battery required) microphone - http://amzn.to/2ftNkl8\\\\nSony XLR adapter Microphone - http://amzn.to/2kCcIDH\\\\nSmall Sony Microphone - http://amzn.to/2oX7Eih\\\\n\\\\nFavorite SD Card - http://amzn.to/2oWRGoD\\\\n\\\\nDJI Mavic Pro - http://amzn.to/2f6nL5E\\\\nPhantom 4 Pro - http://amzn.to/2pbDrN1\\\\nPhantom 4 Pro Plus  - http://amzn.to/2oX63Jz"
      ]
     },
     "metadata": {},
     "output_type": "display_data"
    }
   ],
   "source": [
    "#Download the CSV file that was saved on my computer from Kaggle.\n",
    "setwd(\"~/Downloads\")\n",
    "yt_data <- read.csv(\"USvideos.csv\", stringsAsFactors = FALSE)\n",
    "head(yt_data)"
   ]
  },
  {
   "cell_type": "code",
   "execution_count": 3,
   "metadata": {},
   "outputs": [
    {
     "data": {
      "text/html": [
       "<style>\n",
       ".list-inline {list-style: none; margin:0; padding: 0}\n",
       ".list-inline>li {display: inline-block}\n",
       ".list-inline>li:not(:last-child)::after {content: \"\\00b7\"; padding: 0 .5ex}\n",
       "</style>\n",
       "<ol class=list-inline><li>'video_id'</li><li>'trending_date'</li><li>'title'</li><li>'channel_title'</li><li>'category_id'</li><li>'publish_time'</li><li>'tags'</li><li>'views'</li><li>'likes'</li><li>'dislikes'</li><li>'comment_count'</li><li>'thumbnail_link'</li><li>'comments_disabled'</li><li>'ratings_disabled'</li><li>'video_error_or_removed'</li><li>'description'</li></ol>\n"
      ],
      "text/latex": [
       "\\begin{enumerate*}\n",
       "\\item 'video\\_id'\n",
       "\\item 'trending\\_date'\n",
       "\\item 'title'\n",
       "\\item 'channel\\_title'\n",
       "\\item 'category\\_id'\n",
       "\\item 'publish\\_time'\n",
       "\\item 'tags'\n",
       "\\item 'views'\n",
       "\\item 'likes'\n",
       "\\item 'dislikes'\n",
       "\\item 'comment\\_count'\n",
       "\\item 'thumbnail\\_link'\n",
       "\\item 'comments\\_disabled'\n",
       "\\item 'ratings\\_disabled'\n",
       "\\item 'video\\_error\\_or\\_removed'\n",
       "\\item 'description'\n",
       "\\end{enumerate*}\n"
      ],
      "text/markdown": [
       "1. 'video_id'\n",
       "2. 'trending_date'\n",
       "3. 'title'\n",
       "4. 'channel_title'\n",
       "5. 'category_id'\n",
       "6. 'publish_time'\n",
       "7. 'tags'\n",
       "8. 'views'\n",
       "9. 'likes'\n",
       "10. 'dislikes'\n",
       "11. 'comment_count'\n",
       "12. 'thumbnail_link'\n",
       "13. 'comments_disabled'\n",
       "14. 'ratings_disabled'\n",
       "15. 'video_error_or_removed'\n",
       "16. 'description'\n",
       "\n",
       "\n"
      ],
      "text/plain": [
       " [1] \"video_id\"               \"trending_date\"          \"title\"                 \n",
       " [4] \"channel_title\"          \"category_id\"            \"publish_time\"          \n",
       " [7] \"tags\"                   \"views\"                  \"likes\"                 \n",
       "[10] \"dislikes\"               \"comment_count\"          \"thumbnail_link\"        \n",
       "[13] \"comments_disabled\"      \"ratings_disabled\"       \"video_error_or_removed\"\n",
       "[16] \"description\"           "
      ]
     },
     "metadata": {},
     "output_type": "display_data"
    }
   ],
   "source": [
    "#Review column names\n",
    "colnames(yt_data)"
   ]
  },
  {
   "cell_type": "markdown",
   "metadata": {},
   "source": [
    "#### Step 2: clean the data \n",
    "#### 2a) remove unnecessary columns as well as omiting data with NaN."
   ]
  },
  {
   "cell_type": "code",
   "execution_count": 4,
   "metadata": {},
   "outputs": [],
   "source": [
    "#removing unnecessary columns\n",
    "\n",
    "yt_data$channel_id <- NULL\n",
    "yt_data$thumbnail_link <- NULL\n",
    "yt_data$video_id <- NULL\n",
    "yt_data$description <- NULL\n",
    "yt_data$tags <- NULL\n",
    "yt_data$video_error_or_removed <- NULL\n",
    "yt_data$trending_date <- NULL\n",
    "yt_data$category_id <- NULL\n",
    "\n",
    "#removes rows where NA values exist\n",
    "yt_data <- na.omit(yt_data)"
   ]
  },
  {
   "cell_type": "code",
   "execution_count": 6,
   "metadata": {},
   "outputs": [
    {
     "data": {
      "text/html": [
       "40949"
      ],
      "text/latex": [
       "40949"
      ],
      "text/markdown": [
       "40949"
      ],
      "text/plain": [
       "[1] 40949"
      ]
     },
     "metadata": {},
     "output_type": "display_data"
    }
   ],
   "source": [
    "nrow(yt_data)"
   ]
  },
  {
   "cell_type": "markdown",
   "metadata": {},
   "source": [
    "##### Dataset has 40949 rows. \n",
    "##### 2b) Next part in the cleaning process is removing duplicate rows and rows where comments and likes are disabled. As well as adding my own columns in helpful for the analysis."
   ]
  },
  {
   "cell_type": "code",
   "execution_count": 19,
   "metadata": {},
   "outputs": [],
   "source": [
    "\n",
    "#remove data where the row is repeated\n",
    "ct_data <- yt_data[!duplicated(yt_data[ ,c(\"title\",\"publish_time\", \"channel_title\")]), ]\n",
    "\n",
    "\n",
    "#removes data that where like and dislike data is disabled.\n",
    "yt_data1 <- ct_data$ratings_disabled == \"False\"\n",
    "ct_data1 <- ct_data[yt_data1, ]\n",
    "\n",
    "#removes data where comments are disabled.\n",
    "ct_data2 <- ct_data1$comments_disabled == \"False\"\n",
    "bt_data <- ct_data1[ct_data2, ]\n",
    "\n",
    "#resets the row indices\n",
    "rownames(bt_data) <- NULL\n",
    "\n",
    "#remove columns\n",
    "bt_data$comments_disabled <- NULL\n",
    "bt_data$ratings_disabled <- NULL\n",
    "\n",
    "#change dislikes from 0 to 1 so no NaN values\n",
    "bt_data$dislikes[bt_data$dislikes == 0] <- 1\n",
    "\n",
    "#change comment_count from 0 to 1 so no NaN values\n",
    "bt_data$comment_count[bt_data$comment_count == 0] <- 1\n",
    "\n",
    "#change likes from 0 to 1 so no NaN values\n",
    "bt_data$likes[bt_data$likes == 0] <- 1\n",
    "\n",
    "#adds column interaction to show views to likes \n",
    "bt_data$low_interaction<- bt_data$views / bt_data$likes\n",
    "\n",
    "#adds column likes_ratio and shows the difference of likes to dislikes\n",
    "bt_data$likes_diff <- bt_data$likes - bt_data$dislikes\n",
    "\n",
    "#reordering data based on interaction\n",
    "bt_data <- bt_data[order(-bt_data$low_interaction), ]\n",
    "rownames(bt_data) <- NULL"
   ]
  },
  {
   "cell_type": "markdown",
   "metadata": {},
   "source": [
    "### Completed: Cleaned data renamed bt_data where I can start to analyze it. "
   ]
  },
  {
   "cell_type": "code",
   "execution_count": 20,
   "metadata": {},
   "outputs": [
    {
     "data": {
      "text/html": [
       "6354"
      ],
      "text/latex": [
       "6354"
      ],
      "text/markdown": [
       "6354"
      ],
      "text/plain": [
       "[1] 6354"
      ]
     },
     "metadata": {},
     "output_type": "display_data"
    },
    {
     "data": {
      "text/html": [
       "<table class=\"dataframe\">\n",
       "<caption>A data.frame: 6 × 9</caption>\n",
       "<thead>\n",
       "\t<tr><th></th><th scope=col>title</th><th scope=col>channel_title</th><th scope=col>publish_time</th><th scope=col>views</th><th scope=col>likes</th><th scope=col>dislikes</th><th scope=col>comment_count</th><th scope=col>low_interaction</th><th scope=col>likes_diff</th></tr>\n",
       "\t<tr><th></th><th scope=col>&lt;chr&gt;</th><th scope=col>&lt;chr&gt;</th><th scope=col>&lt;chr&gt;</th><th scope=col>&lt;int&gt;</th><th scope=col>&lt;dbl&gt;</th><th scope=col>&lt;dbl&gt;</th><th scope=col>&lt;dbl&gt;</th><th scope=col>&lt;dbl&gt;</th><th scope=col>&lt;dbl&gt;</th></tr>\n",
       "</thead>\n",
       "<tbody>\n",
       "\t<tr><th scope=row>1</th><td>The Path Season 3 Trailer (Official) • The Path on Hulu              </td><td>Hulu          </td><td>2017-12-20T17:30:27.000Z</td><td>2159497</td><td>162</td><td> 12</td><td> 31</td><td>13330.228</td><td> 150</td></tr>\n",
       "\t<tr><th scope=row>2</th><td>THE SHAPE OF WATER | Human | FOX Searchlight                         </td><td>FoxSearchlight</td><td>2017-11-28T21:16:52.000Z</td><td> 349383</td><td> 38</td><td>  2</td><td>  4</td><td> 9194.289</td><td>  36</td></tr>\n",
       "\t<tr><th scope=row>3</th><td>LuLaRoe Consultant Mocks Those With Special Needs                    </td><td>J S           </td><td>2018-01-25T02:35:03.000Z</td><td> 212858</td><td> 27</td><td>591</td><td>209</td><td> 7883.630</td><td>-564</td></tr>\n",
       "\t<tr><th scope=row>4</th><td>Did Alexa Lose Her Voice? - Teaser - Amazon Super Bowl Commercial LII</td><td>amazon        </td><td>2018-01-26T21:42:18.000Z</td><td>4683106</td><td>763</td><td> 60</td><td>178</td><td> 6137.754</td><td> 703</td></tr>\n",
       "\t<tr><th scope=row>5</th><td>Michael Wolff, “Fire and Fury | theSkimm Sip 'n Skimm                </td><td>theSkimm      </td><td>2018-01-31T17:32:26.000Z</td><td>  11216</td><td>  2</td><td> 14</td><td> 13</td><td> 5608.000</td><td> -12</td></tr>\n",
       "\t<tr><th scope=row>6</th><td>Ref to the Rescue | 2018 Kona | Hyundai NFL Super Bowl LII           </td><td>HyundaiUSA    </td><td>2018-01-30T15:48:51.000Z</td><td> 523481</td><td>100</td><td> 13</td><td>  9</td><td> 5234.810</td><td>  87</td></tr>\n",
       "</tbody>\n",
       "</table>\n"
      ],
      "text/latex": [
       "A data.frame: 6 × 9\n",
       "\\begin{tabular}{r|lllllllll}\n",
       "  & title & channel\\_title & publish\\_time & views & likes & dislikes & comment\\_count & low\\_interaction & likes\\_diff\\\\\n",
       "  & <chr> & <chr> & <chr> & <int> & <dbl> & <dbl> & <dbl> & <dbl> & <dbl>\\\\\n",
       "\\hline\n",
       "\t1 & The Path Season 3 Trailer (Official) • The Path on Hulu               & Hulu           & 2017-12-20T17:30:27.000Z & 2159497 & 162 &  12 &  31 & 13330.228 &  150\\\\\n",
       "\t2 & THE SHAPE OF WATER \\textbar{} Human \\textbar{} FOX Searchlight                          & FoxSearchlight & 2017-11-28T21:16:52.000Z &  349383 &  38 &   2 &   4 &  9194.289 &   36\\\\\n",
       "\t3 & LuLaRoe Consultant Mocks Those With Special Needs                     & J S            & 2018-01-25T02:35:03.000Z &  212858 &  27 & 591 & 209 &  7883.630 & -564\\\\\n",
       "\t4 & Did Alexa Lose Her Voice? - Teaser - Amazon Super Bowl Commercial LII & amazon         & 2018-01-26T21:42:18.000Z & 4683106 & 763 &  60 & 178 &  6137.754 &  703\\\\\n",
       "\t5 & Michael Wolff, “Fire and Fury \\textbar{} theSkimm Sip 'n Skimm                 & theSkimm       & 2018-01-31T17:32:26.000Z &   11216 &   2 &  14 &  13 &  5608.000 &  -12\\\\\n",
       "\t6 & Ref to the Rescue \\textbar{} 2018 Kona \\textbar{} Hyundai NFL Super Bowl LII            & HyundaiUSA     & 2018-01-30T15:48:51.000Z &  523481 & 100 &  13 &   9 &  5234.810 &   87\\\\\n",
       "\\end{tabular}\n"
      ],
      "text/markdown": [
       "\n",
       "A data.frame: 6 × 9\n",
       "\n",
       "| <!--/--> | title &lt;chr&gt; | channel_title &lt;chr&gt; | publish_time &lt;chr&gt; | views &lt;int&gt; | likes &lt;dbl&gt; | dislikes &lt;dbl&gt; | comment_count &lt;dbl&gt; | low_interaction &lt;dbl&gt; | likes_diff &lt;dbl&gt; |\n",
       "|---|---|---|---|---|---|---|---|---|---|\n",
       "| 1 | The Path Season 3 Trailer (Official) • The Path on Hulu               | Hulu           | 2017-12-20T17:30:27.000Z | 2159497 | 162 |  12 |  31 | 13330.228 |  150 |\n",
       "| 2 | THE SHAPE OF WATER | Human | FOX Searchlight                          | FoxSearchlight | 2017-11-28T21:16:52.000Z |  349383 |  38 |   2 |   4 |  9194.289 |   36 |\n",
       "| 3 | LuLaRoe Consultant Mocks Those With Special Needs                     | J S            | 2018-01-25T02:35:03.000Z |  212858 |  27 | 591 | 209 |  7883.630 | -564 |\n",
       "| 4 | Did Alexa Lose Her Voice? - Teaser - Amazon Super Bowl Commercial LII | amazon         | 2018-01-26T21:42:18.000Z | 4683106 | 763 |  60 | 178 |  6137.754 |  703 |\n",
       "| 5 | Michael Wolff, “Fire and Fury | theSkimm Sip 'n Skimm                 | theSkimm       | 2018-01-31T17:32:26.000Z |   11216 |   2 |  14 |  13 |  5608.000 |  -12 |\n",
       "| 6 | Ref to the Rescue | 2018 Kona | Hyundai NFL Super Bowl LII            | HyundaiUSA     | 2018-01-30T15:48:51.000Z |  523481 | 100 |  13 |   9 |  5234.810 |   87 |\n",
       "\n"
      ],
      "text/plain": [
       "  title                                                                \n",
       "1 The Path Season 3 Trailer (Official) • The Path on Hulu              \n",
       "2 THE SHAPE OF WATER | Human | FOX Searchlight                         \n",
       "3 LuLaRoe Consultant Mocks Those With Special Needs                    \n",
       "4 Did Alexa Lose Her Voice? - Teaser - Amazon Super Bowl Commercial LII\n",
       "5 Michael Wolff, “Fire and Fury | theSkimm Sip 'n Skimm                \n",
       "6 Ref to the Rescue | 2018 Kona | Hyundai NFL Super Bowl LII           \n",
       "  channel_title  publish_time             views   likes dislikes comment_count\n",
       "1 Hulu           2017-12-20T17:30:27.000Z 2159497 162    12       31          \n",
       "2 FoxSearchlight 2017-11-28T21:16:52.000Z  349383  38     2        4          \n",
       "3 J S            2018-01-25T02:35:03.000Z  212858  27   591      209          \n",
       "4 amazon         2018-01-26T21:42:18.000Z 4683106 763    60      178          \n",
       "5 theSkimm       2018-01-31T17:32:26.000Z   11216   2    14       13          \n",
       "6 HyundaiUSA     2018-01-30T15:48:51.000Z  523481 100    13        9          \n",
       "  low_interaction likes_diff\n",
       "1 13330.228        150      \n",
       "2  9194.289         36      \n",
       "3  7883.630       -564      \n",
       "4  6137.754        703      \n",
       "5  5608.000        -12      \n",
       "6  5234.810         87      "
      ]
     },
     "metadata": {},
     "output_type": "display_data"
    }
   ],
   "source": [
    "nrow(bt_data)\n",
    "head(bt_data)"
   ]
  },
  {
   "cell_type": "markdown",
   "metadata": {},
   "source": [
    "After the data is cleaned the total number of rows is 6354. Quite a lot of duplicates! Most videos had 5-8 duplicates when I was checking.\n",
    "As seen above, the list of videos are ordered by descending low_interaction column (highly viewed videos but low-like-rating) to highest interaction. Does that mean these top videos are extremely disliked? Not necessarily, these videos display the dislikes as well and it can be seen that 4 out of the 6 top interaction videos have more likes to dislikes (view likes_diff). Meaning that just a low number of likes does not mean the video disliked. "
   ]
  },
  {
   "cell_type": "code",
   "execution_count": 179,
   "metadata": {},
   "outputs": [
    {
     "data": {
      "text/html": [
       "<table class=\"dataframe\">\n",
       "<caption>A data.frame: 1 × 9</caption>\n",
       "<thead>\n",
       "\t<tr><th></th><th scope=col>title</th><th scope=col>channel_title</th><th scope=col>publish_time</th><th scope=col>views</th><th scope=col>likes</th><th scope=col>dislikes</th><th scope=col>comment_count</th><th scope=col>low_interaction</th><th scope=col>likes_diff</th></tr>\n",
       "\t<tr><th></th><th scope=col>&lt;chr&gt;</th><th scope=col>&lt;chr&gt;</th><th scope=col>&lt;chr&gt;</th><th scope=col>&lt;int&gt;</th><th scope=col>&lt;dbl&gt;</th><th scope=col>&lt;dbl&gt;</th><th scope=col>&lt;dbl&gt;</th><th scope=col>&lt;dbl&gt;</th><th scope=col>&lt;dbl&gt;</th></tr>\n",
       "</thead>\n",
       "<tbody>\n",
       "\t<tr><th scope=row>786</th><td>PSA from Chairman of the FCC Ajit Pai</td><td>Daily Caller</td><td>2017-12-13T22:52:57.000Z</td><td>1142585</td><td>9100</td><td>218841</td><td>28013</td><td>125.5588</td><td>-209741</td></tr>\n",
       "</tbody>\n",
       "</table>\n"
      ],
      "text/latex": [
       "A data.frame: 1 × 9\n",
       "\\begin{tabular}{r|lllllllll}\n",
       "  & title & channel\\_title & publish\\_time & views & likes & dislikes & comment\\_count & low\\_interaction & likes\\_diff\\\\\n",
       "  & <chr> & <chr> & <chr> & <int> & <dbl> & <dbl> & <dbl> & <dbl> & <dbl>\\\\\n",
       "\\hline\n",
       "\t786 & PSA from Chairman of the FCC Ajit Pai & Daily Caller & 2017-12-13T22:52:57.000Z & 1142585 & 9100 & 218841 & 28013 & 125.5588 & -209741\\\\\n",
       "\\end{tabular}\n"
      ],
      "text/markdown": [
       "\n",
       "A data.frame: 1 × 9\n",
       "\n",
       "| <!--/--> | title &lt;chr&gt; | channel_title &lt;chr&gt; | publish_time &lt;chr&gt; | views &lt;int&gt; | likes &lt;dbl&gt; | dislikes &lt;dbl&gt; | comment_count &lt;dbl&gt; | low_interaction &lt;dbl&gt; | likes_diff &lt;dbl&gt; |\n",
       "|---|---|---|---|---|---|---|---|---|---|\n",
       "| 786 | PSA from Chairman of the FCC Ajit Pai | Daily Caller | 2017-12-13T22:52:57.000Z | 1142585 | 9100 | 218841 | 28013 | 125.5588 | -209741 |\n",
       "\n"
      ],
      "text/plain": [
       "    title                                 channel_title\n",
       "786 PSA from Chairman of the FCC Ajit Pai Daily Caller \n",
       "    publish_time             views   likes dislikes comment_count\n",
       "786 2017-12-13T22:52:57.000Z 1142585 9100  218841   28013        \n",
       "    low_interaction likes_diff\n",
       "786 125.5588        -209741   "
      ]
     },
     "metadata": {},
     "output_type": "display_data"
    }
   ],
   "source": [
    "the_worst <- min(bt_data$likes_diff)\n",
    "bt_data[which(bt_data$likes_diff == the_worst), ]"
   ]
  },
  {
   "cell_type": "markdown",
   "metadata": {},
   "source": [
    "   This is the most dislikes to likes video from the dataset.https://www.youtube.com/watch?v=LFhT6H6pRWg \"PSA from Chairman of the FCC Ajit Pai\" now as someone who had been on youtube for awhile I vaguely remember people hating on this person but did not remember who he was and watching this video without thinking about the dislikes, I thought he was just a meme guy. But looking at the number of dislikes, this person is more than just a goofball. He has been hated by lots of people https://www.wired.com/story/ajit-pai-man-who-killed-net-neutrality/and it can easily be seen in the like rating. This is critical information because how would I know if I stumble across other videos where hate is just as much. As a modern viewer 26 years of age, removing the ability to view the number of dislikes is poor behavior. \n",
    "     This is similar to voting most people can vote and not have to make a written opinion on it. Youtube could have dislikes still instilled. Who cares if small creators are recieving hate. According to this video, https://www.youtube.com/watch?v=TbI0xDKkNCYI others feel the same way. Removing dislikes disengages the viewer, leading them to misbelief and making them more oblivious to what is out there. I have had my share of following a how-to video on youtube without knowing if this person is actually knowledgable or creating dangers to the viewers who listen to him. Compare Youtube to Yelp. Yelp allows people to give a number of stars like 1 when the rating is bad. People can view the bad opinions and small businesses are not hurt because of it. These small business/creators know what they are getting themselves into when they publicize their creation. Youtube should be a free market. One where reviews can be shown of all types and ones where is suppose to stand on do not have expertise in who Ajit Pai is and according to Kaggle when this dataset was introduced dislikes were still visible. If this video was stumbled upon in August 2025, when I did this report it would show 12k likes and 1.7 million views this could just be a video with high views + 1 million and low interactions of likes and dislikes. "
   ]
  },
  {
   "cell_type": "code",
   "execution_count": 185,
   "metadata": {},
   "outputs": [],
   "source": [
    "row_dissed <- nrow(bt_data[bt_data$likes_diff < 0, ])\n",
    "row_total <-nrow(bt_data)"
   ]
  },
  {
   "cell_type": "code",
   "execution_count": 187,
   "metadata": {},
   "outputs": [
    {
     "name": "stdout",
     "output_type": "stream",
     "text": [
      "[1] \"1.51%\"\n"
     ]
    }
   ],
   "source": [
    "print(paste0(round((row_dissed/row_total)*100, 2), \"%\"))"
   ]
  },
  {
   "cell_type": "markdown",
   "metadata": {},
   "source": [
    "So total percent of videos where dislikes outweigh the likes is 1.51% now that means that there are about 1.5 videos for every 100 videos that are watched that give a negative taste to the majority. Now depending on what the average amount of videos watched a day is 1.5% could be a lot. A good analogy is like eating a worm out of an apple. https://www.oberlo.com/statistics/average-time-spent-on-youtube\n",
    "https://www.mixbloom.com/resources/average-time-spent-on-social-media-2022 These data sources say people spend on average 4.6 videos a day thats every 4 days theres a rotten taste in their mouth."
   ]
  },
  {
   "cell_type": "markdown",
   "metadata": {},
   "source": [
    "# Next I would like to see the mean low_interaction and seperate the interactions based on the 25th percent quartile, 50th percent quartile and the 75th percent quatile to see how the like_diff is for these components."
   ]
  },
  {
   "cell_type": "code",
   "execution_count": 23,
   "metadata": {},
   "outputs": [
    {
     "data": {
      "text/html": [
       "3.98668733684193"
      ],
      "text/latex": [
       "3.98668733684193"
      ],
      "text/markdown": [
       "3.98668733684193"
      ],
      "text/plain": [
       "[1] 3.986687"
      ]
     },
     "metadata": {},
     "output_type": "display_data"
    }
   ],
   "source": [
    "#Standard deviation and coefficient of the variation\n",
    "avg_int <- mean(bt_data$low_interaction)\n",
    "sd_int <- sd(bt_data$low_interaction)\n",
    "cof_var <- sd_int/avg_int\n",
    "cof_var"
   ]
  },
  {
   "cell_type": "code",
   "execution_count": 29,
   "metadata": {},
   "outputs": [
    {
     "data": {
      "text/html": [
       "4765.5"
      ],
      "text/latex": [
       "4765.5"
      ],
      "text/markdown": [
       "4765.5"
      ],
      "text/plain": [
       "[1] 4765.5"
      ]
     },
     "metadata": {},
     "output_type": "display_data"
    }
   ],
   "source": [
    "6354*.75\n",
    "#nrow(bt_data[0:3177, ])"
   ]
  },
  {
   "cell_type": "code",
   "execution_count": 109,
   "metadata": {},
   "outputs": [],
   "source": [
    "#percent tile variables for the interaction group \n",
    "quarter1 <- bt_data[0:1588, ]\n",
    "quarter2 <- bt_data[1558:3177, ]\n",
    "quarter3 <- bt_data[3177:4765, ]\n",
    "quarter4 <- bt_data[4765:6354, ]"
   ]
  },
  {
   "cell_type": "code",
   "execution_count": 111,
   "metadata": {},
   "outputs": [],
   "source": [
    "#SD and CV of quarter one\n",
    "avg1 <- mean(quarter1$low_interaction)\n",
    "sd1 <- sd(quarter1$low_interaction)\n",
    "cv1 <- sd1/avg1\n",
    "avg_view1 <-mean(quarter1$views)\n",
    "min_v1 <-min(quarter1$views)\n",
    "max_v1 <-max(quarter1$views)"
   ]
  },
  {
   "cell_type": "code",
   "execution_count": 112,
   "metadata": {},
   "outputs": [],
   "source": [
    "#SD and CV of quarter two\n",
    "avg2 <- mean(quarter2$low_interaction)\n",
    "sd2 <- sd(quarter2$low_interaction)\n",
    "cv2 <- sd2/avg2\n",
    "avg_view2 <-mean(quarter2$views)\n",
    "min_v2 <- min(quarter2$views)\n",
    "max_v2 <-max(quarter2$views)"
   ]
  },
  {
   "cell_type": "code",
   "execution_count": 113,
   "metadata": {},
   "outputs": [],
   "source": [
    "#SD and CV of quarter three\n",
    "avg3 <- mean(quarter3$low_interaction)\n",
    "sd3 <- sd(quarter3$low_interaction)\n",
    "cv3 <- sd3/avg3\n",
    "avg_view3 <- mean(quarter3$views)\n",
    "min_v3 <-min(quarter3$views)\n",
    "max_v3 <-max(quarter3$views)"
   ]
  },
  {
   "cell_type": "code",
   "execution_count": 114,
   "metadata": {},
   "outputs": [],
   "source": [
    "#SD and CV of quarter four\n",
    "avg4 <- mean(quarter4$low_interaction)\n",
    "sd4 <- sd(quarter4$low_interaction)\n",
    "cv4 <- sd4/avg4\n",
    "avg_view4 <- mean(quarter4$views)\n",
    "min_v4 <-min(quarter4$views)\n",
    "max_v4 <-max(quarter4$views)"
   ]
  },
  {
   "cell_type": "code",
   "execution_count": 122,
   "metadata": {},
   "outputs": [
    {
     "data": {
      "text/html": [
       "<table class=\"dataframe\">\n",
       "<caption>A data.frame: 4 × 5</caption>\n",
       "<thead>\n",
       "\t<tr><th></th><th scope=col>Min_view</th><th scope=col>Max_view</th><th scope=col>Mean_int</th><th scope=col>SD_int</th><th scope=col>CV_int</th></tr>\n",
       "\t<tr><th></th><th scope=col>&lt;chr&gt;</th><th scope=col>&lt;chr&gt;</th><th scope=col>&lt;dbl&gt;</th><th scope=col>&lt;dbl&gt;</th><th scope=col>&lt;chr&gt;</th></tr>\n",
       "</thead>\n",
       "<tbody>\n",
       "\t<tr><th scope=row>Quarter 1</th><td>  658</td><td>48,431,654</td><td>265.58</td><td>661.03</td><td>248.9%</td></tr>\n",
       "\t<tr><th scope=row>Quarter 2</th><td>  549</td><td>38,873,543</td><td> 46.00</td><td> 10.56</td><td>22.9% </td></tr>\n",
       "\t<tr><th scope=row>Quarter 3</th><td>1,087</td><td>37,736,281</td><td> 24.01</td><td>  3.91</td><td>16.3% </td></tr>\n",
       "\t<tr><th scope=row>Quarter 4</th><td>  798</td><td>39,349,927</td><td> 12.44</td><td>  3.42</td><td>27.4% </td></tr>\n",
       "</tbody>\n",
       "</table>\n"
      ],
      "text/latex": [
       "A data.frame: 4 × 5\n",
       "\\begin{tabular}{r|lllll}\n",
       "  & Min\\_view & Max\\_view & Mean\\_int & SD\\_int & CV\\_int\\\\\n",
       "  & <chr> & <chr> & <dbl> & <dbl> & <chr>\\\\\n",
       "\\hline\n",
       "\tQuarter 1 &   658 & 48,431,654 & 265.58 & 661.03 & 248.9\\%\\\\\n",
       "\tQuarter 2 &   549 & 38,873,543 &  46.00 &  10.56 & 22.9\\% \\\\\n",
       "\tQuarter 3 & 1,087 & 37,736,281 &  24.01 &   3.91 & 16.3\\% \\\\\n",
       "\tQuarter 4 &   798 & 39,349,927 &  12.44 &   3.42 & 27.4\\% \\\\\n",
       "\\end{tabular}\n"
      ],
      "text/markdown": [
       "\n",
       "A data.frame: 4 × 5\n",
       "\n",
       "| <!--/--> | Min_view &lt;chr&gt; | Max_view &lt;chr&gt; | Mean_int &lt;dbl&gt; | SD_int &lt;dbl&gt; | CV_int &lt;chr&gt; |\n",
       "|---|---|---|---|---|---|\n",
       "| Quarter 1 |   658 | 48,431,654 | 265.58 | 661.03 | 248.9% |\n",
       "| Quarter 2 |   549 | 38,873,543 |  46.00 |  10.56 | 22.9%  |\n",
       "| Quarter 3 | 1,087 | 37,736,281 |  24.01 |   3.91 | 16.3%  |\n",
       "| Quarter 4 |   798 | 39,349,927 |  12.44 |   3.42 | 27.4%  |\n",
       "\n"
      ],
      "text/plain": [
       "          Min_view Max_view   Mean_int SD_int CV_int\n",
       "Quarter 1   658    48,431,654 265.58   661.03 248.9%\n",
       "Quarter 2   549    38,873,543  46.00    10.56 22.9% \n",
       "Quarter 3 1,087    37,736,281  24.01     3.91 16.3% \n",
       "Quarter 4   798    39,349,927  12.44     3.42 27.4% "
      ]
     },
     "metadata": {},
     "output_type": "display_data"
    }
   ],
   "source": [
    "df_int <- data.frame(\n",
    "Min_view = c(min_v1, min_v2, min_v3, min_v4),\n",
    "Max_view = c(max_v1, max_v2, max_v3, max_v4),\n",
    "Mean_int = c(avg1, avg2, avg3, avg4),\n",
    "SD_int = c(sd1, sd2, sd3, sd4), \n",
    "CV_int = c(cv1, cv2, cv3, cv4)\n",
    ")\n",
    "rownames(df_int) <- c(\"Quarter 1\", \"Quarter 2\", \"Quarter 3\", \"Quarter 4\")\n",
    "df_int$CV_int <- df_int$CV_int * 100\n",
    "df_int$CV_int <- paste0(round(df_int$CV_int, 1), \"%\")\n",
    "df_int$SD_int <- round(df_int$SD_int, 2)\n",
    "df_int$Mean_int <- round(df_int$Mean_int, 2)\n",
    "df_int$Max_view <- format(df_int$Max_view, big.mark = \",\", scientific = FALSE)\n",
    "df_int$Min_view <- format(df_int$Min_view, big.mark = \",\", scientific = FALSE)\n",
    "df_int"
   ]
  },
  {
   "cell_type": "markdown",
   "metadata": {},
   "source": [
    "So in this case I had seperated the data into quarter tiles and in each the mean, SD and CV is seen. Quarter 1 has high variance the interaction has data of all over. "
   ]
  },
  {
   "cell_type": "markdown",
   "metadata": {},
   "source": [
    "running the code below\n",
    "quarter1[quarter1$likes_diff == 0, ] has equal likes to dislikes there isnt really anything that stands out from these videos. These videos do not share hate but have low interaction in them."
   ]
  },
  {
   "cell_type": "code",
   "execution_count": 156,
   "metadata": {},
   "outputs": [
    {
     "data": {
      "text/html": [
       "<table class=\"dataframe\">\n",
       "<caption>A data.frame: 96 × 9</caption>\n",
       "<thead>\n",
       "\t<tr><th></th><th scope=col>title</th><th scope=col>channel_title</th><th scope=col>publish_time</th><th scope=col>views</th><th scope=col>likes</th><th scope=col>dislikes</th><th scope=col>comment_count</th><th scope=col>low_interaction</th><th scope=col>likes_diff</th></tr>\n",
       "\t<tr><th></th><th scope=col>&lt;chr&gt;</th><th scope=col>&lt;chr&gt;</th><th scope=col>&lt;chr&gt;</th><th scope=col>&lt;int&gt;</th><th scope=col>&lt;dbl&gt;</th><th scope=col>&lt;dbl&gt;</th><th scope=col>&lt;dbl&gt;</th><th scope=col>&lt;dbl&gt;</th><th scope=col>&lt;dbl&gt;</th></tr>\n",
       "</thead>\n",
       "<tbody>\n",
       "\t<tr><th scope=row>3</th><td>LuLaRoe Consultant Mocks Those With Special Needs                                                   </td><td>J S                     </td><td>2018-01-25T02:35:03.000Z</td><td>  212858</td><td>   27</td><td>   591</td><td>  209</td><td>7883.6296</td><td>  -564</td></tr>\n",
       "\t<tr><th scope=row>5</th><td>Michael Wolff, “Fire and Fury | theSkimm Sip 'n Skimm                                               </td><td>theSkimm                </td><td>2018-01-31T17:32:26.000Z</td><td>   11216</td><td>    2</td><td>    14</td><td>   13</td><td>5608.0000</td><td>   -12</td></tr>\n",
       "\t<tr><th scope=row>8</th><td>Hope Detector | Hyundai NFL Super Bowl LII                                                          </td><td>HyundaiUSA              </td><td>2018-02-04T23:31:40.000Z</td><td> 1217201</td><td>  243</td><td>   600</td><td>  105</td><td>5009.0576</td><td>  -357</td></tr>\n",
       "\t<tr><th scope=row>12</th><td>WEEI: Alex Reimer calls Tom Brady’s daughter an “Annoying Little Pissant” 1/25/18                   </td><td>Nick Ramos              </td><td>2018-01-27T04:20:20.000Z</td><td>  994747</td><td>  258</td><td>   398</td><td>  629</td><td>3855.6085</td><td>  -140</td></tr>\n",
       "\t<tr><th scope=row>19</th><td>World's first self-driving shuttle crashes on first day of use                                      </td><td>KSNV News 3 Las Vegas   </td><td>2017-11-08T20:16:47.000Z</td><td>  169511</td><td>   57</td><td>    59</td><td>   79</td><td>2973.8772</td><td>    -2</td></tr>\n",
       "\t<tr><th scope=row>20</th><td>IoT kit robot #3                                                                                    </td><td>eba era                 </td><td>2014-03-07T22:39:36.000Z</td><td>    2910</td><td>    1</td><td>     3</td><td>    1</td><td>2910.0000</td><td>    -2</td></tr>\n",
       "\t<tr><th scope=row>26</th><td>MTB Skills - Technical Climb                                                                        </td><td>Geoff Mallinson         </td><td>2015-04-02T12:41:47.000Z</td><td>    4681</td><td>    2</td><td>     3</td><td>    1</td><td>2340.5000</td><td>    -1</td></tr>\n",
       "\t<tr><th scope=row>29</th><td>Kelly Oubre Punches John Wall in the Lead during warriors wizards scuffle                           </td><td>Rob Andretti            </td><td>2017-10-28T11:15:14.000Z</td><td>    2197</td><td>    1</td><td>     2</td><td>    1</td><td>2197.0000</td><td>    -1</td></tr>\n",
       "\t<tr><th scope=row>34</th><td>Devin Booker has words with Lakers assistant Jesse Mermuys                                          </td><td>NBA Highlights · YouTube</td><td>2017-11-15T17:29:26.000Z</td><td>   10838</td><td>    7</td><td>    42</td><td>   10</td><td>1548.2857</td><td>   -35</td></tr>\n",
       "\t<tr><th scope=row>67</th><td>Staudt on Sports I 1-22-18                                                                          </td><td>730 WVFN                </td><td>2018-01-22T17:32:59.000Z</td><td>    6064</td><td>    7</td><td>    23</td><td>   19</td><td> 866.2857</td><td>   -16</td></tr>\n",
       "\t<tr><th scope=row>92</th><td>WATCH: Sen. Mitch McConnell on tax reform                                                           </td><td>WLKY News Louisville    </td><td>2017-11-13T16:14:00.000Z</td><td>    6685</td><td>   11</td><td>    35</td><td>   18</td><td> 607.7273</td><td>   -24</td></tr>\n",
       "\t<tr><th scope=row>123</th><td>Stephon Marbury and Jimmer Fredette fight in China                                                  </td><td>NBA Highlights · YouTube</td><td>2017-11-10T18:23:05.000Z</td><td>  956169</td><td> 2017</td><td>  2425</td><td> 1447</td><td> 474.0550</td><td>  -408</td></tr>\n",
       "\t<tr><th scope=row>133</th><td>Fergie Performs The U.S. National Anthem / 2018 NBA All-Star Game                                   </td><td>MLG Highlights          </td><td>2018-02-19T01:37:11.000Z</td><td>14647590</td><td>32892</td><td>117128</td><td>44404</td><td> 445.3238</td><td>-84236</td></tr>\n",
       "\t<tr><th scope=row>135</th><td>Official Ram Trucks Super Bowl Commercial | Dr. Martin Luther King, Jr. | Built to Serve            </td><td>Ram Trucks              </td><td>2018-02-05T00:45:18.000Z</td><td> 1865148</td><td> 4223</td><td>  9681</td><td> 2959</td><td> 441.6642</td><td> -5458</td></tr>\n",
       "\t<tr><th scope=row>158</th><td>Kate Winslet On Working With Woody Allen | Los Angeles Times                                        </td><td>Los Angeles Times       </td><td>2017-12-16T23:19:59.000Z</td><td>   45180</td><td>  111</td><td>   362</td><td>  132</td><td> 407.0270</td><td>  -251</td></tr>\n",
       "\t<tr><th scope=row>161</th><td>Tia's Goodbye- Bachelor                                                                             </td><td>Bachelor Nation on ABC  </td><td>2018-02-20T06:00:01.000Z</td><td>   70006</td><td>  176</td><td>   218</td><td>  258</td><td> 397.7614</td><td>   -42</td></tr>\n",
       "\t<tr><th scope=row>174</th><td>Jeffrey Tambor Fired From 'Transparent' Following Amazon Investigation Into Sexual Misconduct Allega</td><td>CBS Los Angeles         </td><td>2018-02-16T02:26:02.000Z</td><td>    1143</td><td>    3</td><td>    15</td><td>    4</td><td> 381.0000</td><td>   -12</td></tr>\n",
       "\t<tr><th scope=row>178</th><td>HOL HD: Mike Riley Monday Press Conference                                                          </td><td>Gregg Peterson          </td><td>2017-11-13T18:41:18.000Z</td><td>    6684</td><td>   18</td><td>    57</td><td>   54</td><td> 371.3333</td><td>   -39</td></tr>\n",
       "\t<tr><th scope=row>216</th><td>Deleted video                                                                                       </td><td>DaHoopSpot Productions  </td><td>2017-12-16T04:29:25.000Z</td><td>    2611</td><td>    8</td><td>    12</td><td>    5</td><td> 326.3750</td><td>    -4</td></tr>\n",
       "\t<tr><th scope=row>223</th><td>Basmati Blues - Trailer                                                                             </td><td>Blockbuster             </td><td>2017-10-13T08:20:03.000Z</td><td>   12609</td><td>   40</td><td>    79</td><td>   17</td><td> 315.2250</td><td>   -39</td></tr>\n",
       "\t<tr><th scope=row>226</th><td><span style=white-space:pre-wrap>H&amp;M slammed for posing black boy in 'monkey' hoodie                                                 </span></td><td><span style=white-space:pre-wrap>USA TODAY               </span></td><td>2018-01-08T17:45:34.000Z</td><td><span style=white-space:pre-wrap>   91752</span></td><td><span style=white-space:pre-wrap>  293</span></td><td><span style=white-space:pre-wrap>   874</span></td><td> 1414</td><td> 313.1468</td><td><span style=white-space:pre-wrap>  -581</span></td></tr>\n",
       "\t<tr><th scope=row>229</th><td>Joel Embiid ROASTS Russell Westbrook For Shooting 33 Times!!                                        </td><td>DaHoopSpot Productions  </td><td>2017-12-16T04:29:25.000Z</td><td>    2493</td><td>    8</td><td>    12</td><td>    5</td><td> 311.6250</td><td>    -4</td></tr>\n",
       "\t<tr><th scope=row>234</th><td>Diet Coke Twisted Mango | Groove                                                                    </td><td>Diet Coke               </td><td>2018-02-05T00:10:13.000Z</td><td>  363422</td><td> 1181</td><td>  3007</td><td>  905</td><td> 307.7240</td><td> -1826</td></tr>\n",
       "\t<tr><th scope=row>242</th><td>Undercover footage from inside secretive Presidents Club Charity Dinner                             </td><td>Business Insider UK     </td><td>2018-01-24T13:14:57.000Z</td><td>   24591</td><td>   81</td><td>   236</td><td>  117</td><td> 303.5926</td><td>  -155</td></tr>\n",
       "\t<tr><th scope=row>244</th><td>Host dad who took in accused Florida shooter: It's his right to have an AR-15                       </td><td>CBS This Morning        </td><td>2018-02-20T12:27:48.000Z</td><td>   36288</td><td>  121</td><td>   128</td><td>  315</td><td> 299.9008</td><td>    -7</td></tr>\n",
       "\t<tr><th scope=row>255</th><td>Andy Cohen Weighs In on Kim Cattrall’s Feud with Sarah Jessica Parker                               </td><td>Radio Andy              </td><td>2018-02-12T17:30:10.000Z</td><td>   36270</td><td>  124</td><td>   207</td><td>  211</td><td> 292.5000</td><td>   -83</td></tr>\n",
       "\t<tr><th scope=row>301</th><td>Highlights from the 2017 American Music Awards                                                      </td><td>Washington Post         </td><td>2017-11-20T15:38:58.000Z</td><td>   29254</td><td>  114</td><td>   156</td><td>  138</td><td> 256.6140</td><td>   -42</td></tr>\n",
       "\t<tr><th scope=row>337</th><td>Tom Brady Hangs Up On Boston Radio Hosts After Insult About Daughter | SI Wire | Sports Illustrated </td><td>Sports Illustrated      </td><td>2018-01-29T17:41:31.000Z</td><td>   34997</td><td>  147</td><td>   175</td><td>  147</td><td> 238.0748</td><td>   -28</td></tr>\n",
       "\t<tr><th scope=row>347</th><td>Donald Trump Jr. Says India's Poorest Have Something Special | NBC News                             </td><td>NBC News                </td><td>2018-02-20T16:55:34.000Z</td><td>   31543</td><td>  134</td><td>   201</td><td>  263</td><td> 235.3955</td><td>   -67</td></tr>\n",
       "\t<tr><th scope=row>368</th><td>Megyn Kelly: I Have No Regrets About My Question To Jane Fonda | Megyn Kelly TODAY                  </td><td>TODAY                   </td><td>2018-01-22T15:35:41.000Z</td><td>  515508</td><td> 2297</td><td>  2471</td><td> 1619</td><td> 224.4266</td><td>  -174</td></tr>\n",
       "\t<tr><th scope=row>⋮</th><td>⋮</td><td>⋮</td><td>⋮</td><td>⋮</td><td>⋮</td><td>⋮</td><td>⋮</td><td>⋮</td><td>⋮</td></tr>\n",
       "\t<tr><th scope=row>1139</th><td>Local family discovers hidden room after sinkhole opens in garage                                 </td><td>East Idaho News               </td><td>2018-01-16T00:48:49.000Z</td><td>  3077</td><td>   33</td><td>   40</td><td>   20</td><td>93.24242</td><td>    -7</td></tr>\n",
       "\t<tr><th scope=row>1155</th><td>Heathers Official Red Band Trailer | Premieres March 7th on Paramount Network                     </td><td>Paramount Network             </td><td>2018-01-18T20:12:56.000Z</td><td>168245</td><td> 1824</td><td> 4152</td><td> 1083</td><td>92.23958</td><td> -2328</td></tr>\n",
       "\t<tr><th scope=row>1167</th><td>LaToya Cantrell elected mayor of New Orleans                                                      </td><td>NOLA.com                      </td><td>2017-11-19T05:07:23.000Z</td><td> 17627</td><td>  193</td><td>  238</td><td>  390</td><td>91.33161</td><td>   -45</td></tr>\n",
       "\t<tr><th scope=row>1180</th><td>Romney announces Utah Senate run                                                                  </td><td>Fox News                      </td><td>2018-02-16T14:35:59.000Z</td><td> 12547</td><td>  139</td><td>  422</td><td>  288</td><td>90.26619</td><td>  -283</td></tr>\n",
       "\t<tr><th scope=row>1232</th><td>Top 5 Plays of the Night | January 02, 2018                                                       </td><td>NBA                           </td><td>2018-01-03T07:56:44.000Z</td><td>146536</td><td> 1691</td><td> 1762</td><td>  250</td><td>86.65642</td><td>   -71</td></tr>\n",
       "\t<tr><th scope=row>1240</th><td>Women are marching on Trump's one-year anniversary in office                                      </td><td>CNN                           </td><td>2018-01-20T16:39:20.000Z</td><td>247049</td><td> 2874</td><td> 3174</td><td> 7031</td><td>85.95999</td><td>  -300</td></tr>\n",
       "\t<tr><th scope=row>1272</th><td><span style=white-space:pre-wrap>President Bill Clinton On Dictators, Democracy, &amp; Why We Need Immigrants More Than Ever           </span></td><td><span style=white-space:pre-wrap>Team Coco                     </span></td><td>2017-11-09T02:37:49.000Z</td><td>366180</td><td> 4364</td><td> 4448</td><td> 1997</td><td>83.90926</td><td><span style=white-space:pre-wrap>   -84</span></td></tr>\n",
       "\t<tr><th scope=row>1329</th><td>Golden Globes 2018: Why stars wore black on the red carpet - BBC News                             </td><td>BBC News                      </td><td>2018-01-08T07:54:41.000Z</td><td> 41264</td><td>  514</td><td>  544</td><td>  600</td><td>80.28016</td><td>   -30</td></tr>\n",
       "\t<tr><th scope=row>1332</th><td>Top 5 Plays of the Night | January 23, 2018                                                       </td><td>NBA                           </td><td>2018-01-24T09:25:46.000Z</td><td>144065</td><td> 1798</td><td> 1938</td><td>  249</td><td>80.12514</td><td>  -140</td></tr>\n",
       "\t<tr><th scope=row>1382</th><td>Trump delivers remarks regarding his national security strategy                                   </td><td>Washington Post               </td><td>2017-12-18T19:39:39.000Z</td><td> 24979</td><td>  322</td><td>  323</td><td>  441</td><td>77.57453</td><td>    -1</td></tr>\n",
       "\t<tr><th scope=row>1428</th><td>Top 10 Plays of the Night | January 3, 2018                                                       </td><td>NBA                           </td><td>2018-01-04T06:59:22.000Z</td><td>161925</td><td> 2153</td><td> 2196</td><td>  439</td><td>75.20901</td><td>   -43</td></tr>\n",
       "\t<tr><th scope=row>1481</th><td>Arizona Sheriff Joe Arpaio Is Running For U.S. Senate                                             </td><td>NJ.com                        </td><td>2018-01-09T17:53:37.000Z</td><td>  5263</td><td>   73</td><td>  144</td><td>  147</td><td>72.09589</td><td>   -71</td></tr>\n",
       "\t<tr><th scope=row>1565</th><td>Top 10 Plays of the Night: December 13, 2017                                                      </td><td>NBA                           </td><td>2017-12-14T07:20:36.000Z</td><td>180677</td><td> 2639</td><td> 3785</td><td>  341</td><td>68.46419</td><td> -1146</td></tr>\n",
       "\t<tr><th scope=row>1575</th><td>KFC | Honky Tonk | Smoky Mountain BBQ                                                             </td><td>KFC                           </td><td>2018-01-26T01:08:37.000Z</td><td> 20740</td><td>  306</td><td>  316</td><td>  225</td><td>67.77778</td><td>   -10</td></tr>\n",
       "\t<tr><th scope=row>1576</th><td>President Trump on bump stocks (C-SPAN)                                                           </td><td>C-SPAN                        </td><td>2018-02-20T21:38:24.000Z</td><td> 10775</td><td>  159</td><td>  295</td><td>  758</td><td>67.76730</td><td>  -136</td></tr>\n",
       "\t<tr><th scope=row>1600</th><td>Janelle Monae Introduces Kesha With a Powerful Message About the #MeToo Movement                  </td><td>Catch-Up TV                   </td><td>2018-01-29T05:51:16.000Z</td><td> 23049</td><td>  344</td><td>  529</td><td>  310</td><td>67.00291</td><td>  -185</td></tr>\n",
       "\t<tr><th scope=row>1604</th><td>Chloe Grace Moretz on Louis C.K. and the #MeToo movement                                          </td><td>Variety                       </td><td>2018-01-27T00:37:01.000Z</td><td> 10232</td><td>  153</td><td>  262</td><td>  139</td><td>66.87582</td><td>  -109</td></tr>\n",
       "\t<tr><th scope=row>1748</th><td>Why black Americans are getting less sleep                                                        </td><td>Vox                           </td><td>2018-04-12T13:55:36.000Z</td><td>512146</td><td> 8374</td><td>25877</td><td> 8280</td><td>61.15906</td><td>-17503</td></tr>\n",
       "\t<tr><th scope=row>1778</th><td>Major bank ends long-time partnership with NRA                                                    </td><td>Fox Business                  </td><td>2018-02-23T16:06:15.000Z</td><td> 20955</td><td>  349</td><td>  370</td><td>  697</td><td>60.04298</td><td>   -21</td></tr>\n",
       "\t<tr><th scope=row>1885</th><td>Lindsey Vonn: I won't be representing Trump at Olympics                                           </td><td>CNN                           </td><td>2017-12-07T13:31:27.000Z</td><td>119646</td><td> 2112</td><td> 3224</td><td> 4876</td><td>56.65057</td><td> -1112</td></tr>\n",
       "\t<tr><th scope=row>1909</th><td>#MeToo Backlash | January 17, 2018 Act 1 | Full Frontal on TBS                                    </td><td>Full Frontal with Samantha Bee</td><td>2018-01-18T07:00:01.000Z</td><td>635686</td><td>11383</td><td>12122</td><td> 4289</td><td>55.84521</td><td>  -739</td></tr>\n",
       "\t<tr><th scope=row>1912</th><td>Thousands rally for Women's March                                                                 </td><td>ABC News                      </td><td>2018-01-21T14:38:09.000Z</td><td> 69948</td><td> 1254</td><td> 2795</td><td> 3622</td><td>55.77990</td><td> -1541</td></tr>\n",
       "\t<tr><th scope=row>1948</th><td>Ready to Serve | Romney for Utah                                                                  </td><td>mittromney                    </td><td>2018-02-16T13:21:55.000Z</td><td> 32662</td><td>  598</td><td>  840</td><td>  428</td><td>54.61873</td><td>  -242</td></tr>\n",
       "\t<tr><th scope=row>1975</th><td>Rep. Nancy Pelosi (D-CA) finds out she's given the longest-continuous speech in the House (C-SPAN)</td><td>C-SPAN                        </td><td>2018-02-07T22:19:24.000Z</td><td>  5011</td><td>   93</td><td>  143</td><td>  109</td><td>53.88172</td><td>   -50</td></tr>\n",
       "\t<tr><th scope=row>2257</th><td>Panel Of Women Who Have Accused President Trump Of Misconduct Hold Press Conference | TIME        </td><td>TIME                          </td><td>2017-12-11T18:17:36.000Z</td><td>  1817</td><td>   39</td><td>   43</td><td>   39</td><td>46.58974</td><td>    -4</td></tr>\n",
       "\t<tr><th scope=row>2429</th><td>I Feel Pretty Trailer #1 | Movieclips Trailers                                                    </td><td>Movieclips Trailers           </td><td>2018-02-08T20:00:03.000Z</td><td>126829</td><td> 2972</td><td> 7966</td><td> 1632</td><td>42.67463</td><td> -4994</td></tr>\n",
       "\t<tr><th scope=row>2452</th><td>Emma Gonzalez gives speech at March for Our Lives rally                                           </td><td>CNN                           </td><td>2018-03-24T19:16:38.000Z</td><td>486688</td><td>11540</td><td>12891</td><td>16387</td><td>42.17400</td><td> -1351</td></tr>\n",
       "\t<tr><th scope=row>2463</th><td>Our Surrogate Story: The Truth | Gigi                                                             </td><td>Gigi Gorgeous                 </td><td>2017-11-29T00:53:50.000Z</td><td>759844</td><td>18096</td><td>21877</td><td> 4477</td><td>41.98961</td><td> -3781</td></tr>\n",
       "\t<tr><th scope=row>4225</th><td><span style=white-space:pre-wrap>Matthew Santoro - FACTS (Official Music Video) f. Ellevan &amp; Humble the Poet                       </span></td><td><span style=white-space:pre-wrap>MatthewSantoro                </span></td><td>2017-11-11T16:00:01.000Z</td><td>328330</td><td>15186</td><td>15448</td><td> 7484</td><td>21.62057</td><td><span style=white-space:pre-wrap>  -262</span></td></tr>\n",
       "\t<tr><th scope=row>4429</th><td>#ProudToCreate: Pride 2018                                                                        </td><td>YouTube Spotlight             </td><td>2018-06-07T19:08:51.000Z</td><td>597669</td><td>29781</td><td>71617</td><td>55110</td><td>20.06880</td><td>-41836</td></tr>\n",
       "</tbody>\n",
       "</table>\n"
      ],
      "text/latex": [
       "A data.frame: 96 × 9\n",
       "\\begin{tabular}{r|lllllllll}\n",
       "  & title & channel\\_title & publish\\_time & views & likes & dislikes & comment\\_count & low\\_interaction & likes\\_diff\\\\\n",
       "  & <chr> & <chr> & <chr> & <int> & <dbl> & <dbl> & <dbl> & <dbl> & <dbl>\\\\\n",
       "\\hline\n",
       "\t3 & LuLaRoe Consultant Mocks Those With Special Needs                                                    & J S                      & 2018-01-25T02:35:03.000Z &   212858 &    27 &    591 &   209 & 7883.6296 &   -564\\\\\n",
       "\t5 & Michael Wolff, “Fire and Fury \\textbar{} theSkimm Sip 'n Skimm                                                & theSkimm                 & 2018-01-31T17:32:26.000Z &    11216 &     2 &     14 &    13 & 5608.0000 &    -12\\\\\n",
       "\t8 & Hope Detector \\textbar{} Hyundai NFL Super Bowl LII                                                           & HyundaiUSA               & 2018-02-04T23:31:40.000Z &  1217201 &   243 &    600 &   105 & 5009.0576 &   -357\\\\\n",
       "\t12 & WEEI: Alex Reimer calls Tom Brady’s daughter an “Annoying Little Pissant” 1/25/18                    & Nick Ramos               & 2018-01-27T04:20:20.000Z &   994747 &   258 &    398 &   629 & 3855.6085 &   -140\\\\\n",
       "\t19 & World's first self-driving shuttle crashes on first day of use                                       & KSNV News 3 Las Vegas    & 2017-11-08T20:16:47.000Z &   169511 &    57 &     59 &    79 & 2973.8772 &     -2\\\\\n",
       "\t20 & IoT kit robot \\#3                                                                                     & eba era                  & 2014-03-07T22:39:36.000Z &     2910 &     1 &      3 &     1 & 2910.0000 &     -2\\\\\n",
       "\t26 & MTB Skills - Technical Climb                                                                         & Geoff Mallinson          & 2015-04-02T12:41:47.000Z &     4681 &     2 &      3 &     1 & 2340.5000 &     -1\\\\\n",
       "\t29 & Kelly Oubre Punches John Wall in the Lead during warriors wizards scuffle                            & Rob Andretti             & 2017-10-28T11:15:14.000Z &     2197 &     1 &      2 &     1 & 2197.0000 &     -1\\\\\n",
       "\t34 & Devin Booker has words with Lakers assistant Jesse Mermuys                                           & NBA Highlights · YouTube & 2017-11-15T17:29:26.000Z &    10838 &     7 &     42 &    10 & 1548.2857 &    -35\\\\\n",
       "\t67 & Staudt on Sports I 1-22-18                                                                           & 730 WVFN                 & 2018-01-22T17:32:59.000Z &     6064 &     7 &     23 &    19 &  866.2857 &    -16\\\\\n",
       "\t92 & WATCH: Sen. Mitch McConnell on tax reform                                                            & WLKY News Louisville     & 2017-11-13T16:14:00.000Z &     6685 &    11 &     35 &    18 &  607.7273 &    -24\\\\\n",
       "\t123 & Stephon Marbury and Jimmer Fredette fight in China                                                   & NBA Highlights · YouTube & 2017-11-10T18:23:05.000Z &   956169 &  2017 &   2425 &  1447 &  474.0550 &   -408\\\\\n",
       "\t133 & Fergie Performs The U.S. National Anthem / 2018 NBA All-Star Game                                    & MLG Highlights           & 2018-02-19T01:37:11.000Z & 14647590 & 32892 & 117128 & 44404 &  445.3238 & -84236\\\\\n",
       "\t135 & Official Ram Trucks Super Bowl Commercial \\textbar{} Dr. Martin Luther King, Jr. \\textbar{} Built to Serve             & Ram Trucks               & 2018-02-05T00:45:18.000Z &  1865148 &  4223 &   9681 &  2959 &  441.6642 &  -5458\\\\\n",
       "\t158 & Kate Winslet On Working With Woody Allen \\textbar{} Los Angeles Times                                         & Los Angeles Times        & 2017-12-16T23:19:59.000Z &    45180 &   111 &    362 &   132 &  407.0270 &   -251\\\\\n",
       "\t161 & Tia's Goodbye- Bachelor                                                                              & Bachelor Nation on ABC   & 2018-02-20T06:00:01.000Z &    70006 &   176 &    218 &   258 &  397.7614 &    -42\\\\\n",
       "\t174 & Jeffrey Tambor Fired From 'Transparent' Following Amazon Investigation Into Sexual Misconduct Allega & CBS Los Angeles          & 2018-02-16T02:26:02.000Z &     1143 &     3 &     15 &     4 &  381.0000 &    -12\\\\\n",
       "\t178 & HOL HD: Mike Riley Monday Press Conference                                                           & Gregg Peterson           & 2017-11-13T18:41:18.000Z &     6684 &    18 &     57 &    54 &  371.3333 &    -39\\\\\n",
       "\t216 & Deleted video                                                                                        & DaHoopSpot Productions   & 2017-12-16T04:29:25.000Z &     2611 &     8 &     12 &     5 &  326.3750 &     -4\\\\\n",
       "\t223 & Basmati Blues - Trailer                                                                              & Blockbuster              & 2017-10-13T08:20:03.000Z &    12609 &    40 &     79 &    17 &  315.2250 &    -39\\\\\n",
       "\t226 & H\\&M slammed for posing black boy in 'monkey' hoodie                                                  & USA TODAY                & 2018-01-08T17:45:34.000Z &    91752 &   293 &    874 &  1414 &  313.1468 &   -581\\\\\n",
       "\t229 & Joel Embiid ROASTS Russell Westbrook For Shooting 33 Times!!                                         & DaHoopSpot Productions   & 2017-12-16T04:29:25.000Z &     2493 &     8 &     12 &     5 &  311.6250 &     -4\\\\\n",
       "\t234 & Diet Coke Twisted Mango \\textbar{} Groove                                                                     & Diet Coke                & 2018-02-05T00:10:13.000Z &   363422 &  1181 &   3007 &   905 &  307.7240 &  -1826\\\\\n",
       "\t242 & Undercover footage from inside secretive Presidents Club Charity Dinner                              & Business Insider UK      & 2018-01-24T13:14:57.000Z &    24591 &    81 &    236 &   117 &  303.5926 &   -155\\\\\n",
       "\t244 & Host dad who took in accused Florida shooter: It's his right to have an AR-15                        & CBS This Morning         & 2018-02-20T12:27:48.000Z &    36288 &   121 &    128 &   315 &  299.9008 &     -7\\\\\n",
       "\t255 & Andy Cohen Weighs In on Kim Cattrall’s Feud with Sarah Jessica Parker                                & Radio Andy               & 2018-02-12T17:30:10.000Z &    36270 &   124 &    207 &   211 &  292.5000 &    -83\\\\\n",
       "\t301 & Highlights from the 2017 American Music Awards                                                       & Washington Post          & 2017-11-20T15:38:58.000Z &    29254 &   114 &    156 &   138 &  256.6140 &    -42\\\\\n",
       "\t337 & Tom Brady Hangs Up On Boston Radio Hosts After Insult About Daughter \\textbar{} SI Wire \\textbar{} Sports Illustrated  & Sports Illustrated       & 2018-01-29T17:41:31.000Z &    34997 &   147 &    175 &   147 &  238.0748 &    -28\\\\\n",
       "\t347 & Donald Trump Jr. Says India's Poorest Have Something Special \\textbar{} NBC News                              & NBC News                 & 2018-02-20T16:55:34.000Z &    31543 &   134 &    201 &   263 &  235.3955 &    -67\\\\\n",
       "\t368 & Megyn Kelly: I Have No Regrets About My Question To Jane Fonda \\textbar{} Megyn Kelly TODAY                   & TODAY                    & 2018-01-22T15:35:41.000Z &   515508 &  2297 &   2471 &  1619 &  224.4266 &   -174\\\\\n",
       "\t⋮ & ⋮ & ⋮ & ⋮ & ⋮ & ⋮ & ⋮ & ⋮ & ⋮ & ⋮\\\\\n",
       "\t1139 & Local family discovers hidden room after sinkhole opens in garage                                  & East Idaho News                & 2018-01-16T00:48:49.000Z &   3077 &    33 &    40 &    20 & 93.24242 &     -7\\\\\n",
       "\t1155 & Heathers Official Red Band Trailer \\textbar{} Premieres March 7th on Paramount Network                      & Paramount Network              & 2018-01-18T20:12:56.000Z & 168245 &  1824 &  4152 &  1083 & 92.23958 &  -2328\\\\\n",
       "\t1167 & LaToya Cantrell elected mayor of New Orleans                                                       & NOLA.com                       & 2017-11-19T05:07:23.000Z &  17627 &   193 &   238 &   390 & 91.33161 &    -45\\\\\n",
       "\t1180 & Romney announces Utah Senate run                                                                   & Fox News                       & 2018-02-16T14:35:59.000Z &  12547 &   139 &   422 &   288 & 90.26619 &   -283\\\\\n",
       "\t1232 & Top 5 Plays of the Night \\textbar{} January 02, 2018                                                        & NBA                            & 2018-01-03T07:56:44.000Z & 146536 &  1691 &  1762 &   250 & 86.65642 &    -71\\\\\n",
       "\t1240 & Women are marching on Trump's one-year anniversary in office                                       & CNN                            & 2018-01-20T16:39:20.000Z & 247049 &  2874 &  3174 &  7031 & 85.95999 &   -300\\\\\n",
       "\t1272 & President Bill Clinton On Dictators, Democracy, \\& Why We Need Immigrants More Than Ever            & Team Coco                      & 2017-11-09T02:37:49.000Z & 366180 &  4364 &  4448 &  1997 & 83.90926 &    -84\\\\\n",
       "\t1329 & Golden Globes 2018: Why stars wore black on the red carpet - BBC News                              & BBC News                       & 2018-01-08T07:54:41.000Z &  41264 &   514 &   544 &   600 & 80.28016 &    -30\\\\\n",
       "\t1332 & Top 5 Plays of the Night \\textbar{} January 23, 2018                                                        & NBA                            & 2018-01-24T09:25:46.000Z & 144065 &  1798 &  1938 &   249 & 80.12514 &   -140\\\\\n",
       "\t1382 & Trump delivers remarks regarding his national security strategy                                    & Washington Post                & 2017-12-18T19:39:39.000Z &  24979 &   322 &   323 &   441 & 77.57453 &     -1\\\\\n",
       "\t1428 & Top 10 Plays of the Night \\textbar{} January 3, 2018                                                        & NBA                            & 2018-01-04T06:59:22.000Z & 161925 &  2153 &  2196 &   439 & 75.20901 &    -43\\\\\n",
       "\t1481 & Arizona Sheriff Joe Arpaio Is Running For U.S. Senate                                              & NJ.com                         & 2018-01-09T17:53:37.000Z &   5263 &    73 &   144 &   147 & 72.09589 &    -71\\\\\n",
       "\t1565 & Top 10 Plays of the Night: December 13, 2017                                                       & NBA                            & 2017-12-14T07:20:36.000Z & 180677 &  2639 &  3785 &   341 & 68.46419 &  -1146\\\\\n",
       "\t1575 & KFC \\textbar{} Honky Tonk \\textbar{} Smoky Mountain BBQ                                                              & KFC                            & 2018-01-26T01:08:37.000Z &  20740 &   306 &   316 &   225 & 67.77778 &    -10\\\\\n",
       "\t1576 & President Trump on bump stocks (C-SPAN)                                                            & C-SPAN                         & 2018-02-20T21:38:24.000Z &  10775 &   159 &   295 &   758 & 67.76730 &   -136\\\\\n",
       "\t1600 & Janelle Monae Introduces Kesha With a Powerful Message About the \\#MeToo Movement                   & Catch-Up TV                    & 2018-01-29T05:51:16.000Z &  23049 &   344 &   529 &   310 & 67.00291 &   -185\\\\\n",
       "\t1604 & Chloe Grace Moretz on Louis C.K. and the \\#MeToo movement                                           & Variety                        & 2018-01-27T00:37:01.000Z &  10232 &   153 &   262 &   139 & 66.87582 &   -109\\\\\n",
       "\t1748 & Why black Americans are getting less sleep                                                         & Vox                            & 2018-04-12T13:55:36.000Z & 512146 &  8374 & 25877 &  8280 & 61.15906 & -17503\\\\\n",
       "\t1778 & Major bank ends long-time partnership with NRA                                                     & Fox Business                   & 2018-02-23T16:06:15.000Z &  20955 &   349 &   370 &   697 & 60.04298 &    -21\\\\\n",
       "\t1885 & Lindsey Vonn: I won't be representing Trump at Olympics                                            & CNN                            & 2017-12-07T13:31:27.000Z & 119646 &  2112 &  3224 &  4876 & 56.65057 &  -1112\\\\\n",
       "\t1909 & \\#MeToo Backlash \\textbar{} January 17, 2018 Act 1 \\textbar{} Full Frontal on TBS                                     & Full Frontal with Samantha Bee & 2018-01-18T07:00:01.000Z & 635686 & 11383 & 12122 &  4289 & 55.84521 &   -739\\\\\n",
       "\t1912 & Thousands rally for Women's March                                                                  & ABC News                       & 2018-01-21T14:38:09.000Z &  69948 &  1254 &  2795 &  3622 & 55.77990 &  -1541\\\\\n",
       "\t1948 & Ready to Serve \\textbar{} Romney for Utah                                                                   & mittromney                     & 2018-02-16T13:21:55.000Z &  32662 &   598 &   840 &   428 & 54.61873 &   -242\\\\\n",
       "\t1975 & Rep. Nancy Pelosi (D-CA) finds out she's given the longest-continuous speech in the House (C-SPAN) & C-SPAN                         & 2018-02-07T22:19:24.000Z &   5011 &    93 &   143 &   109 & 53.88172 &    -50\\\\\n",
       "\t2257 & Panel Of Women Who Have Accused President Trump Of Misconduct Hold Press Conference \\textbar{} TIME         & TIME                           & 2017-12-11T18:17:36.000Z &   1817 &    39 &    43 &    39 & 46.58974 &     -4\\\\\n",
       "\t2429 & I Feel Pretty Trailer \\#1 \\textbar{} Movieclips Trailers                                                     & Movieclips Trailers            & 2018-02-08T20:00:03.000Z & 126829 &  2972 &  7966 &  1632 & 42.67463 &  -4994\\\\\n",
       "\t2452 & Emma Gonzalez gives speech at March for Our Lives rally                                            & CNN                            & 2018-03-24T19:16:38.000Z & 486688 & 11540 & 12891 & 16387 & 42.17400 &  -1351\\\\\n",
       "\t2463 & Our Surrogate Story: The Truth \\textbar{} Gigi                                                              & Gigi Gorgeous                  & 2017-11-29T00:53:50.000Z & 759844 & 18096 & 21877 &  4477 & 41.98961 &  -3781\\\\\n",
       "\t4225 & Matthew Santoro - FACTS (Official Music Video) f. Ellevan \\& Humble the Poet                        & MatthewSantoro                 & 2017-11-11T16:00:01.000Z & 328330 & 15186 & 15448 &  7484 & 21.62057 &   -262\\\\\n",
       "\t4429 & \\#ProudToCreate: Pride 2018                                                                         & YouTube Spotlight              & 2018-06-07T19:08:51.000Z & 597669 & 29781 & 71617 & 55110 & 20.06880 & -41836\\\\\n",
       "\\end{tabular}\n"
      ],
      "text/markdown": [
       "\n",
       "A data.frame: 96 × 9\n",
       "\n",
       "| <!--/--> | title &lt;chr&gt; | channel_title &lt;chr&gt; | publish_time &lt;chr&gt; | views &lt;int&gt; | likes &lt;dbl&gt; | dislikes &lt;dbl&gt; | comment_count &lt;dbl&gt; | low_interaction &lt;dbl&gt; | likes_diff &lt;dbl&gt; |\n",
       "|---|---|---|---|---|---|---|---|---|---|\n",
       "| 3 | LuLaRoe Consultant Mocks Those With Special Needs                                                    | J S                      | 2018-01-25T02:35:03.000Z |   212858 |    27 |    591 |   209 | 7883.6296 |   -564 |\n",
       "| 5 | Michael Wolff, “Fire and Fury | theSkimm Sip 'n Skimm                                                | theSkimm                 | 2018-01-31T17:32:26.000Z |    11216 |     2 |     14 |    13 | 5608.0000 |    -12 |\n",
       "| 8 | Hope Detector | Hyundai NFL Super Bowl LII                                                           | HyundaiUSA               | 2018-02-04T23:31:40.000Z |  1217201 |   243 |    600 |   105 | 5009.0576 |   -357 |\n",
       "| 12 | WEEI: Alex Reimer calls Tom Brady’s daughter an “Annoying Little Pissant” 1/25/18                    | Nick Ramos               | 2018-01-27T04:20:20.000Z |   994747 |   258 |    398 |   629 | 3855.6085 |   -140 |\n",
       "| 19 | World's first self-driving shuttle crashes on first day of use                                       | KSNV News 3 Las Vegas    | 2017-11-08T20:16:47.000Z |   169511 |    57 |     59 |    79 | 2973.8772 |     -2 |\n",
       "| 20 | IoT kit robot #3                                                                                     | eba era                  | 2014-03-07T22:39:36.000Z |     2910 |     1 |      3 |     1 | 2910.0000 |     -2 |\n",
       "| 26 | MTB Skills - Technical Climb                                                                         | Geoff Mallinson          | 2015-04-02T12:41:47.000Z |     4681 |     2 |      3 |     1 | 2340.5000 |     -1 |\n",
       "| 29 | Kelly Oubre Punches John Wall in the Lead during warriors wizards scuffle                            | Rob Andretti             | 2017-10-28T11:15:14.000Z |     2197 |     1 |      2 |     1 | 2197.0000 |     -1 |\n",
       "| 34 | Devin Booker has words with Lakers assistant Jesse Mermuys                                           | NBA Highlights · YouTube | 2017-11-15T17:29:26.000Z |    10838 |     7 |     42 |    10 | 1548.2857 |    -35 |\n",
       "| 67 | Staudt on Sports I 1-22-18                                                                           | 730 WVFN                 | 2018-01-22T17:32:59.000Z |     6064 |     7 |     23 |    19 |  866.2857 |    -16 |\n",
       "| 92 | WATCH: Sen. Mitch McConnell on tax reform                                                            | WLKY News Louisville     | 2017-11-13T16:14:00.000Z |     6685 |    11 |     35 |    18 |  607.7273 |    -24 |\n",
       "| 123 | Stephon Marbury and Jimmer Fredette fight in China                                                   | NBA Highlights · YouTube | 2017-11-10T18:23:05.000Z |   956169 |  2017 |   2425 |  1447 |  474.0550 |   -408 |\n",
       "| 133 | Fergie Performs The U.S. National Anthem / 2018 NBA All-Star Game                                    | MLG Highlights           | 2018-02-19T01:37:11.000Z | 14647590 | 32892 | 117128 | 44404 |  445.3238 | -84236 |\n",
       "| 135 | Official Ram Trucks Super Bowl Commercial | Dr. Martin Luther King, Jr. | Built to Serve             | Ram Trucks               | 2018-02-05T00:45:18.000Z |  1865148 |  4223 |   9681 |  2959 |  441.6642 |  -5458 |\n",
       "| 158 | Kate Winslet On Working With Woody Allen | Los Angeles Times                                         | Los Angeles Times        | 2017-12-16T23:19:59.000Z |    45180 |   111 |    362 |   132 |  407.0270 |   -251 |\n",
       "| 161 | Tia's Goodbye- Bachelor                                                                              | Bachelor Nation on ABC   | 2018-02-20T06:00:01.000Z |    70006 |   176 |    218 |   258 |  397.7614 |    -42 |\n",
       "| 174 | Jeffrey Tambor Fired From 'Transparent' Following Amazon Investigation Into Sexual Misconduct Allega | CBS Los Angeles          | 2018-02-16T02:26:02.000Z |     1143 |     3 |     15 |     4 |  381.0000 |    -12 |\n",
       "| 178 | HOL HD: Mike Riley Monday Press Conference                                                           | Gregg Peterson           | 2017-11-13T18:41:18.000Z |     6684 |    18 |     57 |    54 |  371.3333 |    -39 |\n",
       "| 216 | Deleted video                                                                                        | DaHoopSpot Productions   | 2017-12-16T04:29:25.000Z |     2611 |     8 |     12 |     5 |  326.3750 |     -4 |\n",
       "| 223 | Basmati Blues - Trailer                                                                              | Blockbuster              | 2017-10-13T08:20:03.000Z |    12609 |    40 |     79 |    17 |  315.2250 |    -39 |\n",
       "| 226 | H&amp;M slammed for posing black boy in 'monkey' hoodie                                                  | USA TODAY                | 2018-01-08T17:45:34.000Z |    91752 |   293 |    874 |  1414 |  313.1468 |   -581 |\n",
       "| 229 | Joel Embiid ROASTS Russell Westbrook For Shooting 33 Times!!                                         | DaHoopSpot Productions   | 2017-12-16T04:29:25.000Z |     2493 |     8 |     12 |     5 |  311.6250 |     -4 |\n",
       "| 234 | Diet Coke Twisted Mango | Groove                                                                     | Diet Coke                | 2018-02-05T00:10:13.000Z |   363422 |  1181 |   3007 |   905 |  307.7240 |  -1826 |\n",
       "| 242 | Undercover footage from inside secretive Presidents Club Charity Dinner                              | Business Insider UK      | 2018-01-24T13:14:57.000Z |    24591 |    81 |    236 |   117 |  303.5926 |   -155 |\n",
       "| 244 | Host dad who took in accused Florida shooter: It's his right to have an AR-15                        | CBS This Morning         | 2018-02-20T12:27:48.000Z |    36288 |   121 |    128 |   315 |  299.9008 |     -7 |\n",
       "| 255 | Andy Cohen Weighs In on Kim Cattrall’s Feud with Sarah Jessica Parker                                | Radio Andy               | 2018-02-12T17:30:10.000Z |    36270 |   124 |    207 |   211 |  292.5000 |    -83 |\n",
       "| 301 | Highlights from the 2017 American Music Awards                                                       | Washington Post          | 2017-11-20T15:38:58.000Z |    29254 |   114 |    156 |   138 |  256.6140 |    -42 |\n",
       "| 337 | Tom Brady Hangs Up On Boston Radio Hosts After Insult About Daughter | SI Wire | Sports Illustrated  | Sports Illustrated       | 2018-01-29T17:41:31.000Z |    34997 |   147 |    175 |   147 |  238.0748 |    -28 |\n",
       "| 347 | Donald Trump Jr. Says India's Poorest Have Something Special | NBC News                              | NBC News                 | 2018-02-20T16:55:34.000Z |    31543 |   134 |    201 |   263 |  235.3955 |    -67 |\n",
       "| 368 | Megyn Kelly: I Have No Regrets About My Question To Jane Fonda | Megyn Kelly TODAY                   | TODAY                    | 2018-01-22T15:35:41.000Z |   515508 |  2297 |   2471 |  1619 |  224.4266 |   -174 |\n",
       "| ⋮ | ⋮ | ⋮ | ⋮ | ⋮ | ⋮ | ⋮ | ⋮ | ⋮ | ⋮ |\n",
       "| 1139 | Local family discovers hidden room after sinkhole opens in garage                                  | East Idaho News                | 2018-01-16T00:48:49.000Z |   3077 |    33 |    40 |    20 | 93.24242 |     -7 |\n",
       "| 1155 | Heathers Official Red Band Trailer | Premieres March 7th on Paramount Network                      | Paramount Network              | 2018-01-18T20:12:56.000Z | 168245 |  1824 |  4152 |  1083 | 92.23958 |  -2328 |\n",
       "| 1167 | LaToya Cantrell elected mayor of New Orleans                                                       | NOLA.com                       | 2017-11-19T05:07:23.000Z |  17627 |   193 |   238 |   390 | 91.33161 |    -45 |\n",
       "| 1180 | Romney announces Utah Senate run                                                                   | Fox News                       | 2018-02-16T14:35:59.000Z |  12547 |   139 |   422 |   288 | 90.26619 |   -283 |\n",
       "| 1232 | Top 5 Plays of the Night | January 02, 2018                                                        | NBA                            | 2018-01-03T07:56:44.000Z | 146536 |  1691 |  1762 |   250 | 86.65642 |    -71 |\n",
       "| 1240 | Women are marching on Trump's one-year anniversary in office                                       | CNN                            | 2018-01-20T16:39:20.000Z | 247049 |  2874 |  3174 |  7031 | 85.95999 |   -300 |\n",
       "| 1272 | President Bill Clinton On Dictators, Democracy, &amp; Why We Need Immigrants More Than Ever            | Team Coco                      | 2017-11-09T02:37:49.000Z | 366180 |  4364 |  4448 |  1997 | 83.90926 |    -84 |\n",
       "| 1329 | Golden Globes 2018: Why stars wore black on the red carpet - BBC News                              | BBC News                       | 2018-01-08T07:54:41.000Z |  41264 |   514 |   544 |   600 | 80.28016 |    -30 |\n",
       "| 1332 | Top 5 Plays of the Night | January 23, 2018                                                        | NBA                            | 2018-01-24T09:25:46.000Z | 144065 |  1798 |  1938 |   249 | 80.12514 |   -140 |\n",
       "| 1382 | Trump delivers remarks regarding his national security strategy                                    | Washington Post                | 2017-12-18T19:39:39.000Z |  24979 |   322 |   323 |   441 | 77.57453 |     -1 |\n",
       "| 1428 | Top 10 Plays of the Night | January 3, 2018                                                        | NBA                            | 2018-01-04T06:59:22.000Z | 161925 |  2153 |  2196 |   439 | 75.20901 |    -43 |\n",
       "| 1481 | Arizona Sheriff Joe Arpaio Is Running For U.S. Senate                                              | NJ.com                         | 2018-01-09T17:53:37.000Z |   5263 |    73 |   144 |   147 | 72.09589 |    -71 |\n",
       "| 1565 | Top 10 Plays of the Night: December 13, 2017                                                       | NBA                            | 2017-12-14T07:20:36.000Z | 180677 |  2639 |  3785 |   341 | 68.46419 |  -1146 |\n",
       "| 1575 | KFC | Honky Tonk | Smoky Mountain BBQ                                                              | KFC                            | 2018-01-26T01:08:37.000Z |  20740 |   306 |   316 |   225 | 67.77778 |    -10 |\n",
       "| 1576 | President Trump on bump stocks (C-SPAN)                                                            | C-SPAN                         | 2018-02-20T21:38:24.000Z |  10775 |   159 |   295 |   758 | 67.76730 |   -136 |\n",
       "| 1600 | Janelle Monae Introduces Kesha With a Powerful Message About the #MeToo Movement                   | Catch-Up TV                    | 2018-01-29T05:51:16.000Z |  23049 |   344 |   529 |   310 | 67.00291 |   -185 |\n",
       "| 1604 | Chloe Grace Moretz on Louis C.K. and the #MeToo movement                                           | Variety                        | 2018-01-27T00:37:01.000Z |  10232 |   153 |   262 |   139 | 66.87582 |   -109 |\n",
       "| 1748 | Why black Americans are getting less sleep                                                         | Vox                            | 2018-04-12T13:55:36.000Z | 512146 |  8374 | 25877 |  8280 | 61.15906 | -17503 |\n",
       "| 1778 | Major bank ends long-time partnership with NRA                                                     | Fox Business                   | 2018-02-23T16:06:15.000Z |  20955 |   349 |   370 |   697 | 60.04298 |    -21 |\n",
       "| 1885 | Lindsey Vonn: I won't be representing Trump at Olympics                                            | CNN                            | 2017-12-07T13:31:27.000Z | 119646 |  2112 |  3224 |  4876 | 56.65057 |  -1112 |\n",
       "| 1909 | #MeToo Backlash | January 17, 2018 Act 1 | Full Frontal on TBS                                     | Full Frontal with Samantha Bee | 2018-01-18T07:00:01.000Z | 635686 | 11383 | 12122 |  4289 | 55.84521 |   -739 |\n",
       "| 1912 | Thousands rally for Women's March                                                                  | ABC News                       | 2018-01-21T14:38:09.000Z |  69948 |  1254 |  2795 |  3622 | 55.77990 |  -1541 |\n",
       "| 1948 | Ready to Serve | Romney for Utah                                                                   | mittromney                     | 2018-02-16T13:21:55.000Z |  32662 |   598 |   840 |   428 | 54.61873 |   -242 |\n",
       "| 1975 | Rep. Nancy Pelosi (D-CA) finds out she's given the longest-continuous speech in the House (C-SPAN) | C-SPAN                         | 2018-02-07T22:19:24.000Z |   5011 |    93 |   143 |   109 | 53.88172 |    -50 |\n",
       "| 2257 | Panel Of Women Who Have Accused President Trump Of Misconduct Hold Press Conference | TIME         | TIME                           | 2017-12-11T18:17:36.000Z |   1817 |    39 |    43 |    39 | 46.58974 |     -4 |\n",
       "| 2429 | I Feel Pretty Trailer #1 | Movieclips Trailers                                                     | Movieclips Trailers            | 2018-02-08T20:00:03.000Z | 126829 |  2972 |  7966 |  1632 | 42.67463 |  -4994 |\n",
       "| 2452 | Emma Gonzalez gives speech at March for Our Lives rally                                            | CNN                            | 2018-03-24T19:16:38.000Z | 486688 | 11540 | 12891 | 16387 | 42.17400 |  -1351 |\n",
       "| 2463 | Our Surrogate Story: The Truth | Gigi                                                              | Gigi Gorgeous                  | 2017-11-29T00:53:50.000Z | 759844 | 18096 | 21877 |  4477 | 41.98961 |  -3781 |\n",
       "| 4225 | Matthew Santoro - FACTS (Official Music Video) f. Ellevan &amp; Humble the Poet                        | MatthewSantoro                 | 2017-11-11T16:00:01.000Z | 328330 | 15186 | 15448 |  7484 | 21.62057 |   -262 |\n",
       "| 4429 | #ProudToCreate: Pride 2018                                                                         | YouTube Spotlight              | 2018-06-07T19:08:51.000Z | 597669 | 29781 | 71617 | 55110 | 20.06880 | -41836 |\n",
       "\n"
      ],
      "text/plain": [
       "     title                                                                                               \n",
       "3    LuLaRoe Consultant Mocks Those With Special Needs                                                   \n",
       "5    Michael Wolff, “Fire and Fury | theSkimm Sip 'n Skimm                                               \n",
       "8    Hope Detector | Hyundai NFL Super Bowl LII                                                          \n",
       "12   WEEI: Alex Reimer calls Tom Brady’s daughter an “Annoying Little Pissant” 1/25/18                   \n",
       "19   World's first self-driving shuttle crashes on first day of use                                      \n",
       "20   IoT kit robot #3                                                                                    \n",
       "26   MTB Skills - Technical Climb                                                                        \n",
       "29   Kelly Oubre Punches John Wall in the Lead during warriors wizards scuffle                           \n",
       "34   Devin Booker has words with Lakers assistant Jesse Mermuys                                          \n",
       "67   Staudt on Sports I 1-22-18                                                                          \n",
       "92   WATCH: Sen. Mitch McConnell on tax reform                                                           \n",
       "123  Stephon Marbury and Jimmer Fredette fight in China                                                  \n",
       "133  Fergie Performs The U.S. National Anthem / 2018 NBA All-Star Game                                   \n",
       "135  Official Ram Trucks Super Bowl Commercial | Dr. Martin Luther King, Jr. | Built to Serve            \n",
       "158  Kate Winslet On Working With Woody Allen | Los Angeles Times                                        \n",
       "161  Tia's Goodbye- Bachelor                                                                             \n",
       "174  Jeffrey Tambor Fired From 'Transparent' Following Amazon Investigation Into Sexual Misconduct Allega\n",
       "178  HOL HD: Mike Riley Monday Press Conference                                                          \n",
       "216  Deleted video                                                                                       \n",
       "223  Basmati Blues - Trailer                                                                             \n",
       "226  H&M slammed for posing black boy in 'monkey' hoodie                                                 \n",
       "229  Joel Embiid ROASTS Russell Westbrook For Shooting 33 Times!!                                        \n",
       "234  Diet Coke Twisted Mango | Groove                                                                    \n",
       "242  Undercover footage from inside secretive Presidents Club Charity Dinner                             \n",
       "244  Host dad who took in accused Florida shooter: It's his right to have an AR-15                       \n",
       "255  Andy Cohen Weighs In on Kim Cattrall’s Feud with Sarah Jessica Parker                               \n",
       "301  Highlights from the 2017 American Music Awards                                                      \n",
       "337  Tom Brady Hangs Up On Boston Radio Hosts After Insult About Daughter | SI Wire | Sports Illustrated \n",
       "347  Donald Trump Jr. Says India's Poorest Have Something Special | NBC News                             \n",
       "368  Megyn Kelly: I Have No Regrets About My Question To Jane Fonda | Megyn Kelly TODAY                  \n",
       "⋮    ⋮                                                                                                   \n",
       "1139 Local family discovers hidden room after sinkhole opens in garage                                   \n",
       "1155 Heathers Official Red Band Trailer | Premieres March 7th on Paramount Network                       \n",
       "1167 LaToya Cantrell elected mayor of New Orleans                                                        \n",
       "1180 Romney announces Utah Senate run                                                                    \n",
       "1232 Top 5 Plays of the Night | January 02, 2018                                                         \n",
       "1240 Women are marching on Trump's one-year anniversary in office                                        \n",
       "1272 President Bill Clinton On Dictators, Democracy, & Why We Need Immigrants More Than Ever             \n",
       "1329 Golden Globes 2018: Why stars wore black on the red carpet - BBC News                               \n",
       "1332 Top 5 Plays of the Night | January 23, 2018                                                         \n",
       "1382 Trump delivers remarks regarding his national security strategy                                     \n",
       "1428 Top 10 Plays of the Night | January 3, 2018                                                         \n",
       "1481 Arizona Sheriff Joe Arpaio Is Running For U.S. Senate                                               \n",
       "1565 Top 10 Plays of the Night: December 13, 2017                                                        \n",
       "1575 KFC | Honky Tonk | Smoky Mountain BBQ                                                               \n",
       "1576 President Trump on bump stocks (C-SPAN)                                                             \n",
       "1600 Janelle Monae Introduces Kesha With a Powerful Message About the #MeToo Movement                    \n",
       "1604 Chloe Grace Moretz on Louis C.K. and the #MeToo movement                                            \n",
       "1748 Why black Americans are getting less sleep                                                          \n",
       "1778 Major bank ends long-time partnership with NRA                                                      \n",
       "1885 Lindsey Vonn: I won't be representing Trump at Olympics                                             \n",
       "1909 #MeToo Backlash | January 17, 2018 Act 1 | Full Frontal on TBS                                      \n",
       "1912 Thousands rally for Women's March                                                                   \n",
       "1948 Ready to Serve | Romney for Utah                                                                    \n",
       "1975 Rep. Nancy Pelosi (D-CA) finds out she's given the longest-continuous speech in the House (C-SPAN)  \n",
       "2257 Panel Of Women Who Have Accused President Trump Of Misconduct Hold Press Conference | TIME          \n",
       "2429 I Feel Pretty Trailer #1 | Movieclips Trailers                                                      \n",
       "2452 Emma Gonzalez gives speech at March for Our Lives rally                                             \n",
       "2463 Our Surrogate Story: The Truth | Gigi                                                               \n",
       "4225 Matthew Santoro - FACTS (Official Music Video) f. Ellevan & Humble the Poet                         \n",
       "4429 #ProudToCreate: Pride 2018                                                                          \n",
       "     channel_title                  publish_time             views    likes\n",
       "3    J S                            2018-01-25T02:35:03.000Z   212858    27\n",
       "5    theSkimm                       2018-01-31T17:32:26.000Z    11216     2\n",
       "8    HyundaiUSA                     2018-02-04T23:31:40.000Z  1217201   243\n",
       "12   Nick Ramos                     2018-01-27T04:20:20.000Z   994747   258\n",
       "19   KSNV News 3 Las Vegas          2017-11-08T20:16:47.000Z   169511    57\n",
       "20   eba era                        2014-03-07T22:39:36.000Z     2910     1\n",
       "26   Geoff Mallinson                2015-04-02T12:41:47.000Z     4681     2\n",
       "29   Rob Andretti                   2017-10-28T11:15:14.000Z     2197     1\n",
       "34   NBA Highlights · YouTube       2017-11-15T17:29:26.000Z    10838     7\n",
       "67   730 WVFN                       2018-01-22T17:32:59.000Z     6064     7\n",
       "92   WLKY News Louisville           2017-11-13T16:14:00.000Z     6685    11\n",
       "123  NBA Highlights · YouTube       2017-11-10T18:23:05.000Z   956169  2017\n",
       "133  MLG Highlights                 2018-02-19T01:37:11.000Z 14647590 32892\n",
       "135  Ram Trucks                     2018-02-05T00:45:18.000Z  1865148  4223\n",
       "158  Los Angeles Times              2017-12-16T23:19:59.000Z    45180   111\n",
       "161  Bachelor Nation on ABC         2018-02-20T06:00:01.000Z    70006   176\n",
       "174  CBS Los Angeles                2018-02-16T02:26:02.000Z     1143     3\n",
       "178  Gregg Peterson                 2017-11-13T18:41:18.000Z     6684    18\n",
       "216  DaHoopSpot Productions         2017-12-16T04:29:25.000Z     2611     8\n",
       "223  Blockbuster                    2017-10-13T08:20:03.000Z    12609    40\n",
       "226  USA TODAY                      2018-01-08T17:45:34.000Z    91752   293\n",
       "229  DaHoopSpot Productions         2017-12-16T04:29:25.000Z     2493     8\n",
       "234  Diet Coke                      2018-02-05T00:10:13.000Z   363422  1181\n",
       "242  Business Insider UK            2018-01-24T13:14:57.000Z    24591    81\n",
       "244  CBS This Morning               2018-02-20T12:27:48.000Z    36288   121\n",
       "255  Radio Andy                     2018-02-12T17:30:10.000Z    36270   124\n",
       "301  Washington Post                2017-11-20T15:38:58.000Z    29254   114\n",
       "337  Sports Illustrated             2018-01-29T17:41:31.000Z    34997   147\n",
       "347  NBC News                       2018-02-20T16:55:34.000Z    31543   134\n",
       "368  TODAY                          2018-01-22T15:35:41.000Z   515508  2297\n",
       "⋮    ⋮                              ⋮                        ⋮        ⋮    \n",
       "1139 East Idaho News                2018-01-16T00:48:49.000Z   3077      33\n",
       "1155 Paramount Network              2018-01-18T20:12:56.000Z 168245    1824\n",
       "1167 NOLA.com                       2017-11-19T05:07:23.000Z  17627     193\n",
       "1180 Fox News                       2018-02-16T14:35:59.000Z  12547     139\n",
       "1232 NBA                            2018-01-03T07:56:44.000Z 146536    1691\n",
       "1240 CNN                            2018-01-20T16:39:20.000Z 247049    2874\n",
       "1272 Team Coco                      2017-11-09T02:37:49.000Z 366180    4364\n",
       "1329 BBC News                       2018-01-08T07:54:41.000Z  41264     514\n",
       "1332 NBA                            2018-01-24T09:25:46.000Z 144065    1798\n",
       "1382 Washington Post                2017-12-18T19:39:39.000Z  24979     322\n",
       "1428 NBA                            2018-01-04T06:59:22.000Z 161925    2153\n",
       "1481 NJ.com                         2018-01-09T17:53:37.000Z   5263      73\n",
       "1565 NBA                            2017-12-14T07:20:36.000Z 180677    2639\n",
       "1575 KFC                            2018-01-26T01:08:37.000Z  20740     306\n",
       "1576 C-SPAN                         2018-02-20T21:38:24.000Z  10775     159\n",
       "1600 Catch-Up TV                    2018-01-29T05:51:16.000Z  23049     344\n",
       "1604 Variety                        2018-01-27T00:37:01.000Z  10232     153\n",
       "1748 Vox                            2018-04-12T13:55:36.000Z 512146    8374\n",
       "1778 Fox Business                   2018-02-23T16:06:15.000Z  20955     349\n",
       "1885 CNN                            2017-12-07T13:31:27.000Z 119646    2112\n",
       "1909 Full Frontal with Samantha Bee 2018-01-18T07:00:01.000Z 635686   11383\n",
       "1912 ABC News                       2018-01-21T14:38:09.000Z  69948    1254\n",
       "1948 mittromney                     2018-02-16T13:21:55.000Z  32662     598\n",
       "1975 C-SPAN                         2018-02-07T22:19:24.000Z   5011      93\n",
       "2257 TIME                           2017-12-11T18:17:36.000Z   1817      39\n",
       "2429 Movieclips Trailers            2018-02-08T20:00:03.000Z 126829    2972\n",
       "2452 CNN                            2018-03-24T19:16:38.000Z 486688   11540\n",
       "2463 Gigi Gorgeous                  2017-11-29T00:53:50.000Z 759844   18096\n",
       "4225 MatthewSantoro                 2017-11-11T16:00:01.000Z 328330   15186\n",
       "4429 YouTube Spotlight              2018-06-07T19:08:51.000Z 597669   29781\n",
       "     dislikes comment_count low_interaction likes_diff\n",
       "3       591     209         7883.6296         -564    \n",
       "5        14      13         5608.0000          -12    \n",
       "8       600     105         5009.0576         -357    \n",
       "12      398     629         3855.6085         -140    \n",
       "19       59      79         2973.8772           -2    \n",
       "20        3       1         2910.0000           -2    \n",
       "26        3       1         2340.5000           -1    \n",
       "29        2       1         2197.0000           -1    \n",
       "34       42      10         1548.2857          -35    \n",
       "67       23      19          866.2857          -16    \n",
       "92       35      18          607.7273          -24    \n",
       "123    2425    1447          474.0550         -408    \n",
       "133  117128   44404          445.3238       -84236    \n",
       "135    9681    2959          441.6642        -5458    \n",
       "158     362     132          407.0270         -251    \n",
       "161     218     258          397.7614          -42    \n",
       "174      15       4          381.0000          -12    \n",
       "178      57      54          371.3333          -39    \n",
       "216      12       5          326.3750           -4    \n",
       "223      79      17          315.2250          -39    \n",
       "226     874    1414          313.1468         -581    \n",
       "229      12       5          311.6250           -4    \n",
       "234    3007     905          307.7240        -1826    \n",
       "242     236     117          303.5926         -155    \n",
       "244     128     315          299.9008           -7    \n",
       "255     207     211          292.5000          -83    \n",
       "301     156     138          256.6140          -42    \n",
       "337     175     147          238.0748          -28    \n",
       "347     201     263          235.3955          -67    \n",
       "368    2471    1619          224.4266         -174    \n",
       "⋮    ⋮        ⋮             ⋮               ⋮         \n",
       "1139    40       20         93.24242            -7    \n",
       "1155  4152     1083         92.23958         -2328    \n",
       "1167   238      390         91.33161           -45    \n",
       "1180   422      288         90.26619          -283    \n",
       "1232  1762      250         86.65642           -71    \n",
       "1240  3174     7031         85.95999          -300    \n",
       "1272  4448     1997         83.90926           -84    \n",
       "1329   544      600         80.28016           -30    \n",
       "1332  1938      249         80.12514          -140    \n",
       "1382   323      441         77.57453            -1    \n",
       "1428  2196      439         75.20901           -43    \n",
       "1481   144      147         72.09589           -71    \n",
       "1565  3785      341         68.46419         -1146    \n",
       "1575   316      225         67.77778           -10    \n",
       "1576   295      758         67.76730          -136    \n",
       "1600   529      310         67.00291          -185    \n",
       "1604   262      139         66.87582          -109    \n",
       "1748 25877     8280         61.15906        -17503    \n",
       "1778   370      697         60.04298           -21    \n",
       "1885  3224     4876         56.65057         -1112    \n",
       "1909 12122     4289         55.84521          -739    \n",
       "1912  2795     3622         55.77990         -1541    \n",
       "1948   840      428         54.61873          -242    \n",
       "1975   143      109         53.88172           -50    \n",
       "2257    43       39         46.58974            -4    \n",
       "2429  7966     1632         42.67463         -4994    \n",
       "2452 12891    16387         42.17400         -1351    \n",
       "2463 21877     4477         41.98961         -3781    \n",
       "4225 15448     7484         21.62057          -262    \n",
       "4429 71617    55110         20.06880        -41836    "
      ]
     },
     "metadata": {},
     "output_type": "display_data"
    }
   ],
   "source": [
    "bt_data[bt_data$likes_diff < 0, ]"
   ]
  },
  {
   "cell_type": "markdown",
   "metadata": {},
   "source": [
    "\n",
    "\n",
    "## Challenge 2 Find videos with low like ratios under 1 and see the number of columns"
   ]
  },
  {
   "cell_type": "code",
   "execution_count": null,
   "metadata": {},
   "outputs": [],
   "source": [
    "sum(yt_data$likes_ratio >= 100, na.rm = TRUE)"
   ]
  },
  {
   "cell_type": "code",
   "execution_count": null,
   "metadata": {},
   "outputs": [],
   "source": [
    "#clipped out a list of how the data is for a video with no likes, comments, or dislikes\n",
    "c <- is.nan(yt_data$likes_ratio)"
   ]
  },
  {
   "cell_type": "markdown",
   "metadata": {},
   "source": [
    "Like this video"
   ]
  },
  {
   "cell_type": "code",
   "execution_count": null,
   "metadata": {},
   "outputs": [],
   "source": [
    "yt_views <- yt_data[order(yt_data$interaction), ]\n",
    "head(yt_views)"
   ]
  },
  {
   "cell_type": "code",
   "execution_count": null,
   "metadata": {},
   "outputs": [],
   "source": [
    "yt_data[1071, ]"
   ]
  },
  {
   "cell_type": "markdown",
   "metadata": {},
   "source": [
    "The dislikes have a total of 218,841 and a likes were at 9,100. By watching the video with no dislikes, I could not find this video to be informative. I figured this was another meme video and not a video where people felt oppressed or opinionated. Openly sharing the dislikes gives a better image of what others feel when watching a video.  "
   ]
  },
  {
   "cell_type": "markdown",
   "metadata": {},
   "source": [
    "With my reign of searching I was able to find this as an outlet for viewing the dislike button. I would like to share this video for those that want to see the number of dislikes a video has again. https://www.youtube.com/watch?v=cUVGjT8szhQ&t=16s"
   ]
  },
  {
   "cell_type": "code",
   "execution_count": null,
   "metadata": {},
   "outputs": [],
   "source": [
    "yt_data <- yt_data[rev(1:nrow(yt_data)), ]"
   ]
  },
  {
   "cell_type": "code",
   "execution_count": null,
   "metadata": {},
   "outputs": [],
   "source": [
    "yt_data[(1:29), ]"
   ]
  },
  {
   "cell_type": "code",
   "execution_count": null,
   "metadata": {},
   "outputs": [],
   "source": [
    "yt_time[which.max(yt_time$dislikes), ]"
   ]
  }
 ],
 "metadata": {
  "kernelspec": {
   "display_name": "R",
   "language": "R",
   "name": "ir"
  },
  "language_info": {
   "codemirror_mode": "r",
   "file_extension": ".r",
   "mimetype": "text/x-r-source",
   "name": "R",
   "pygments_lexer": "r",
   "version": "4.5.1"
  }
 },
 "nbformat": 4,
 "nbformat_minor": 2
}
